{
 "cells": [
  {
   "cell_type": "code",
   "execution_count": 1,
   "id": "81313442",
   "metadata": {},
   "outputs": [],
   "source": [
    "import spotipy\n",
    "from spotipy.oauth2 import SpotifyClientCredentials\n",
    "import requests\n",
    "import json\n",
    "import pandas as pd\n",
    "import getpass\n",
    "import datetime"
   ]
  },
  {
   "cell_type": "code",
   "execution_count": 2,
   "id": "864e1582",
   "metadata": {},
   "outputs": [
    {
     "name": "stdout",
     "output_type": "stream",
     "text": [
      "········\n"
     ]
    }
   ],
   "source": [
    "import getpass\n",
    "c_id = getpass.getpass()"
   ]
  },
  {
   "cell_type": "code",
   "execution_count": 3,
   "id": "e7679b5c",
   "metadata": {},
   "outputs": [
    {
     "name": "stdout",
     "output_type": "stream",
     "text": [
      "········\n"
     ]
    }
   ],
   "source": [
    "c_secret = getpass.getpass()"
   ]
  },
  {
   "cell_type": "code",
   "execution_count": 4,
   "id": "ce0c64c9",
   "metadata": {},
   "outputs": [],
   "source": [
    "sp = spotipy.Spotify(auth_manager=SpotifyClientCredentials(client_id=c_id,client_secret=c_secret))"
   ]
  },
  {
   "cell_type": "markdown",
   "id": "82c4e15b",
   "metadata": {},
   "source": [
    "# PART 1 - I use spotipy to get new data out of Spotify"
   ]
  },
  {
   "cell_type": "markdown",
   "id": "323eba77",
   "metadata": {},
   "source": [
    "I will at first get data from Spotify playlists. I'll see later on (if I have time) if I could retrieve data for songs from other websites."
   ]
  },
  {
   "cell_type": "markdown",
   "id": "9cfa0861",
   "metadata": {},
   "source": [
    "I'll start investigating with one playlist and see afterwards to maybe automatize the extractions for more songs."
   ]
  },
  {
   "cell_type": "code",
   "execution_count": 5,
   "id": "9aff5e89",
   "metadata": {},
   "outputs": [],
   "source": [
    "from random import randint\n",
    "from time import sleep\n",
    "\n",
    "def get_playlist_tracks(playlist_id):\n",
    "    results = sp.user_playlist_tracks(\"spotify\",playlist_id)\n",
    "    tracks = results['items']\n",
    "    while results['next']!=None:\n",
    "        results = sp.next(results)\n",
    "        tracks = tracks + results['items']\n",
    "        sleep(randint(1,3))\n",
    "    return tracks"
   ]
  },
  {
   "cell_type": "code",
   "execution_count": null,
   "id": "fa5ec35e",
   "metadata": {},
   "outputs": [],
   "source": [
    "# Playlist New Release\n",
    "new_release = get_playlist_tracks(\"37i9dQZF1DXb5BKLTO7ULa\")\n",
    "new_release"
   ]
  },
  {
   "cell_type": "code",
   "execution_count": null,
   "id": "e750132d",
   "metadata": {},
   "outputs": [],
   "source": [
    "type(new_release)"
   ]
  },
  {
   "cell_type": "code",
   "execution_count": null,
   "id": "8efb9420",
   "metadata": {},
   "outputs": [],
   "source": [
    "def flatten(input_list):\n",
    "    return [item for sublist in input_list for item in sublist]\n",
    "\n",
    "def get_name_artists_from_track(track):\n",
    "    return [(track[\"name\"],artist[\"name\"], track[\"uri\"]) for artist in track[\"artists\"]]\n",
    "\n",
    "def get_name_artist_from_playlist_item(playlist_item):\n",
    "    return get_name_artists_from_track(playlist_item['track'])\n",
    "\n",
    "def get_name_artists_from_playlist(input_playlist):\n",
    "    return pd.DataFrame(flatten(list(map(get_name_artist_from_playlist_item,input_playlist))), columns = ['track_name', 'artist_name', 'track_uri'])"
   ]
  },
  {
   "cell_type": "code",
   "execution_count": null,
   "id": "a09cd8ef",
   "metadata": {},
   "outputs": [],
   "source": [
    "df = get_name_artists_from_playlist(new_release)\n",
    "df"
   ]
  },
  {
   "cell_type": "markdown",
   "id": "b02e88cb",
   "metadata": {},
   "source": [
    "## Get audio Features"
   ]
  },
  {
   "cell_type": "markdown",
   "id": "9ea05115",
   "metadata": {},
   "source": [
    "### Exploration"
   ]
  },
  {
   "cell_type": "code",
   "execution_count": null,
   "id": "409fea07",
   "metadata": {},
   "outputs": [],
   "source": [
    "df['track_uri'][0]"
   ]
  },
  {
   "cell_type": "code",
   "execution_count": null,
   "id": "16af47fd",
   "metadata": {},
   "outputs": [],
   "source": [
    "sp.audio_features(df['track_uri'][0])"
   ]
  },
  {
   "cell_type": "code",
   "execution_count": null,
   "id": "a2dc337a",
   "metadata": {},
   "outputs": [],
   "source": [
    "sp.audio_features(df['track_uri'][0])[0]"
   ]
  },
  {
   "cell_type": "code",
   "execution_count": null,
   "id": "2c4445a8",
   "metadata": {},
   "outputs": [],
   "source": [
    "sp.audio_features(df['track_uri'][0])[0]['danceability']"
   ]
  },
  {
   "cell_type": "markdown",
   "id": "d3751c69",
   "metadata": {},
   "source": [
    "### Automation"
   ]
  },
  {
   "cell_type": "code",
   "execution_count": null,
   "id": "3719ff8c",
   "metadata": {},
   "outputs": [],
   "source": [
    "# This was my initial plan to get only a limited list of features, nbut I then realized it would dramatically increase\n",
    "# the number of necessary requests via the API. It thought afterwra ds it is probably more efficient to request them all\n",
    "# at once and split/treat them locally\n",
    "\n",
    "# I will only keep the following track features\n",
    "# feature_list = [ 'acousticness','danceability','energy','instrumentalness','liveness','loudness','speechiness','tempo','time_signature', 'valence']\n",
    "\n",
    "# for feature in feature_list:\n",
    "#     feature_values = []\n",
    "#     for i in range(len(df['track_uri'])):\n",
    "#         feature_values.append(sp.audio_features(df['track_uri'][i])[0][feature])\n",
    "#         sleep(randint(1,3))\n",
    "#     df[feature] = feature_values\n",
    "\n",
    "# df"
   ]
  },
  {
   "cell_type": "code",
   "execution_count": null,
   "id": "55817561",
   "metadata": {},
   "outputs": [],
   "source": [
    "# Second trial, which should be more efficient\n",
    "\n",
    "audio_features = []\n",
    "for i in range(len(df['track_uri'])):\n",
    "    audio_features.append(sp.audio_features(df['track_uri'][i])[0])\n",
    "    sleep(randint(1,3))\n",
    "df['audio_features'] = audio_features\n",
    "\n",
    "df"
   ]
  },
  {
   "cell_type": "code",
   "execution_count": 28,
   "id": "14056d8d",
   "metadata": {},
   "outputs": [],
   "source": [
    "def flat_audio_feat(data):\n",
    "    flattened = pd.DataFrame(dict(data['audio_features'])).transpose()\n",
    "    columns = [str(col) for col in flattened.columns]\n",
    "    flattened.columns = [colname for colname in columns]\n",
    "    data = pd.concat([data, flattened], axis=1)\n",
    "    # Drop initial features column + features I do not want to keep\n",
    "    data = data.drop(['audio_features', 'analysis_url', 'duration_ms', 'id', 'key', 'mode', 'track_href', 'type', 'uri'], axis=1)\n",
    "    return data"
   ]
  },
  {
   "cell_type": "code",
   "execution_count": null,
   "id": "fa25fb78",
   "metadata": {},
   "outputs": [],
   "source": [
    "df_test = df.copy()\n",
    "\n",
    "df_test = flat_audio_feat(df_test)\n",
    "df_test"
   ]
  },
  {
   "cell_type": "markdown",
   "id": "b3e3e2a8",
   "metadata": {},
   "source": [
    "Great, it works !"
   ]
  },
  {
   "cell_type": "markdown",
   "id": "922f31e9",
   "metadata": {},
   "source": [
    "## Create function"
   ]
  },
  {
   "cell_type": "code",
   "execution_count": null,
   "id": "e6a609e3",
   "metadata": {},
   "outputs": [],
   "source": [
    "def get_audio_features_from_playlist(playlist_id):\n",
    "    \n",
    "    #Get playlist tracks\n",
    "    input_pl = get_playlist_tracks(playlist_id)\n",
    "    \n",
    "    # Get tracks name, artist and uri\n",
    "    data = get_name_artists_from_playlist(input_pl)\n",
    "    \n",
    "    # Get audio features\n",
    "    audio_features_pl = []\n",
    "    for j in range(len(data['track_uri'])):\n",
    "        audio_features_pl.append(sp.audio_features(data['track_uri'][j])[0])\n",
    "        sleep(randint(1,3))\n",
    "    data['audio_features'] = audio_features_pl\n",
    "    \n",
    "    # Flatten audio features\n",
    "    data = flat_audio_feat(data)\n",
    "    \n",
    "    return data"
   ]
  },
  {
   "cell_type": "code",
   "execution_count": null,
   "id": "ed32252c",
   "metadata": {},
   "outputs": [],
   "source": [
    "# Top Songs Global : https://open.spotify.com/playlist/37i9dQZEVXbNG2KDcFcKOF?si=69c1cf2b2c4d4f0d\n",
    "top_songs_global = get_audio_features_from_playlist('37i9dQZEVXbNG2KDcFcKOF')\n",
    "top_songs_global"
   ]
  },
  {
   "cell_type": "markdown",
   "id": "04118bb4",
   "metadata": {},
   "source": [
    "It seems to work as well !"
   ]
  },
  {
   "cell_type": "markdown",
   "id": "179a5947",
   "metadata": {},
   "source": [
    "### Gather more song data from other playlists"
   ]
  },
  {
   "cell_type": "code",
   "execution_count": null,
   "id": "19d78d64",
   "metadata": {},
   "outputs": [],
   "source": [
    "# Soul Cuisine : https://open.spotify.com/playlist/37i9dQZF1DWX2Y4jtvVshZ?si=fc650a81149b4722\n",
    "soul_cuisine = get_audio_features_from_playlist('37i9dQZF1DWX2Y4jtvVshZ')\n",
    "soul_cuisine"
   ]
  },
  {
   "cell_type": "code",
   "execution_count": null,
   "id": "1eeaa65e",
   "metadata": {},
   "outputs": [],
   "source": [
    "print(df_test.shape)\n",
    "print(top_songs_global.shape)\n",
    "print(soul_cuisine.shape)"
   ]
  },
  {
   "cell_type": "code",
   "execution_count": null,
   "id": "9039dc80",
   "metadata": {},
   "outputs": [],
   "source": [
    "full_data = pd.concat([df_test, top_songs_global, soul_cuisine], axis=0)\n",
    "full_data"
   ]
  },
  {
   "cell_type": "code",
   "execution_count": null,
   "id": "4282d90b",
   "metadata": {},
   "outputs": [],
   "source": [
    "# Beast Mode : https://open.spotify.com/playlist/37i9dQZF1DX76Wlfdnj7AP?si=584ee9ff9d184f52\n",
    "# id : 37i9dQZF1DX76Wlfdnj7AP"
   ]
  },
  {
   "cell_type": "code",
   "execution_count": null,
   "id": "145db1f3",
   "metadata": {},
   "outputs": [],
   "source": [
    "# Motivation Mix : https://open.spotify.com/playlist/37i9dQZF1DXdxcBWuJkbcy?si=f7ac907b15f34f96\n",
    "# id : 37i9dQZF1DXdxcBWuJkbcy"
   ]
  },
  {
   "cell_type": "code",
   "execution_count": null,
   "id": "aaf477e9",
   "metadata": {},
   "outputs": [],
   "source": [
    "# Sunrise yoga : https://open.spotify.com/playlist/37i9dQZF1DXdVyc8LtLi96?si=93661d87b10b43bc\n",
    "# id : 37i9dQZF1DXdVyc8LtLi96"
   ]
  },
  {
   "cell_type": "code",
   "execution_count": null,
   "id": "1b7f6aef",
   "metadata": {},
   "outputs": [],
   "source": [
    "# Peaceful Meditation : https://open.spotify.com/playlist/37i9dQZF1DWZqd5JICZI0u?si=5c76ed8c0dfd4343\n",
    "# id : 37i9dQZF1DWZqd5JICZI0u"
   ]
  },
  {
   "cell_type": "code",
   "execution_count": null,
   "id": "3ddf1d51",
   "metadata": {},
   "outputs": [],
   "source": [
    "# Run Wild : https://open.spotify.com/playlist/37i9dQZF1DX35oM5SPECmN?si=9aac2257c07745e2\n",
    "# id : 37i9dQZF1DX35oM5SPECmN"
   ]
  },
  {
   "cell_type": "code",
   "execution_count": null,
   "id": "987e1f3a",
   "metadata": {},
   "outputs": [],
   "source": [
    "# Women of Pop : https://open.spotify.com/playlist/37i9dQZF1DX3WvGXE8FqYX?si=4f17556518894237\n",
    "# id : 37i9dQZF1DX3WvGXE8FqYX"
   ]
  },
  {
   "cell_type": "code",
   "execution_count": null,
   "id": "3d0f8723",
   "metadata": {},
   "outputs": [],
   "source": [
    "# Women of Jip-Hop : https://open.spotify.com/playlist/37i9dQZF1DX5l9rcXWdrth?si=d76edea72b274570\n",
    "# id : 37i9dQZF1DX5l9rcXWdrth"
   ]
  },
  {
   "cell_type": "code",
   "execution_count": null,
   "id": "30b8cd50",
   "metadata": {},
   "outputs": [],
   "source": [
    "# Women of Rock : https://open.spotify.com/playlist/37i9dQZF1DXd0ZFXhY0CRF?si=3117bfbf8dc849fa\n",
    "# id : 37i9dQZF1DXd0ZFXhY0CRF"
   ]
  },
  {
   "cell_type": "code",
   "execution_count": null,
   "id": "fe574979",
   "metadata": {},
   "outputs": [],
   "source": [
    "# Women of Indie : https://open.spotify.com/playlist/37i9dQZF1DWWW53w3AslFX?si=79a1f269277c405e\n",
    "# id : 37i9dQZF1DWWW53w3AslFX"
   ]
  },
  {
   "cell_type": "code",
   "execution_count": null,
   "id": "5ec9b156",
   "metadata": {},
   "outputs": [],
   "source": [
    "# Valentine's Day Love : https://open.spotify.com/playlist/37i9dQZF1DX4pAtJteyweQ?si=f30e5640654a45bd\n",
    "# id : 37i9dQZF1DX4pAtJteyweQ"
   ]
  },
  {
   "cell_type": "code",
   "execution_count": null,
   "id": "1d7ac150",
   "metadata": {},
   "outputs": [],
   "source": [
    "# Focus Modus : https://open.spotify.com/playlist/37i9dQZF1DWVRrbkzYIlbi?si=3920acf28b7a4889\n",
    "# id : 37i9dQZF1DWVRrbkzYIlbi"
   ]
  },
  {
   "cell_type": "code",
   "execution_count": null,
   "id": "2994db16",
   "metadata": {},
   "outputs": [],
   "source": [
    "# Peaceful Piano : https://open.spotify.com/playlist/37i9dQZF1DX4sWSpwq3LiO?si=376d5e8e8cc742fe\n",
    "# id : 37i9dQZF1DX4sWSpwq3LiO"
   ]
  },
  {
   "cell_type": "code",
   "execution_count": null,
   "id": "bf73dcc5",
   "metadata": {},
   "outputs": [],
   "source": [
    "# Disney Hits : https://open.spotify.com/playlist/37i9dQZF1DX8C9xQcOrE6T?si=84aa0fd0269d47ab\n",
    "# id : 37i9dQZF1DX8C9xQcOrE6T"
   ]
  },
  {
   "cell_type": "code",
   "execution_count": null,
   "id": "efea2be8",
   "metadata": {},
   "outputs": [],
   "source": [
    "playlist_id_list = ['37i9dQZF1DX76Wlfdnj7AP', '37i9dQZF1DXdxcBWuJkbcy', '37i9dQZF1DXdVyc8LtLi96', '37i9dQZF1DWZqd5JICZI0u', '37i9dQZF1DX35oM5SPECmN', '37i9dQZF1DX3WvGXE8FqYX', '37i9dQZF1DX5l9rcXWdrth', '37i9dQZF1DXd0ZFXhY0CRF', '37i9dQZF1DWWW53w3AslFX', '37i9dQZF1DX4pAtJteyweQ', '37i9dQZF1DWVRrbkzYIlbi', '37i9dQZF1DX4sWSpwq3LiO', '37i9dQZF1DX8C9xQcOrE6T']"
   ]
  },
  {
   "cell_type": "code",
   "execution_count": null,
   "id": "14b7e1a7",
   "metadata": {},
   "outputs": [],
   "source": [
    "for pl_id in playlist_id_list:\n",
    "    temp = get_audio_features_from_playlist(pl_id)\n",
    "    full_data = pd.concat([full_data, temp], axis=0)"
   ]
  },
  {
   "cell_type": "code",
   "execution_count": null,
   "id": "5c67433c",
   "metadata": {},
   "outputs": [],
   "source": [
    "full_data.shape"
   ]
  },
  {
   "cell_type": "markdown",
   "id": "032e10f2",
   "metadata": {},
   "source": [
    "I'll export the data to a csv file now, so that I do not have to rerun the requests everytime."
   ]
  },
  {
   "cell_type": "code",
   "execution_count": null,
   "id": "2fc30d80",
   "metadata": {},
   "outputs": [],
   "source": [
    "full_data.to_csv('full_data.csv', index=False)"
   ]
  },
  {
   "cell_type": "markdown",
   "id": "3eb2804e",
   "metadata": {},
   "source": [
    "### Control data quality"
   ]
  },
  {
   "cell_type": "code",
   "execution_count": null,
   "id": "dc835ffe",
   "metadata": {},
   "outputs": [],
   "source": [
    "full_data.isna().sum()"
   ]
  },
  {
   "cell_type": "code",
   "execution_count": null,
   "id": "2f3ecba4",
   "metadata": {},
   "outputs": [],
   "source": [
    "full_data[full_data['danceability'].isna()]"
   ]
  },
  {
   "cell_type": "code",
   "execution_count": null,
   "id": "0c58b569",
   "metadata": {},
   "outputs": [],
   "source": [
    "full_data = full_data.dropna()"
   ]
  },
  {
   "cell_type": "code",
   "execution_count": null,
   "id": "abaa6935",
   "metadata": {},
   "outputs": [],
   "source": [
    "full_data.to_csv('full_data.csv', index=False)"
   ]
  },
  {
   "cell_type": "markdown",
   "id": "7c2b6017",
   "metadata": {},
   "source": [
    "### New Set of playlists"
   ]
  },
  {
   "cell_type": "code",
   "execution_count": null,
   "id": "c65f1c94",
   "metadata": {},
   "outputs": [],
   "source": [
    "# Pure Pop Punk https://open.spotify.com/playlist/37i9dQZF1DXasneILDRM7B?si=c464a9abd4854e31\n",
    "# Ambient Essentials : https://open.spotify.com/playlist/37i9dQZF1DWUrPBdYfoJvz?si=9d92f129c19f4d40\n",
    "# gloomcore : https://open.spotify.com/playlist/37i9dQZF1DXbENHm2OgowX?si=a7ec0bea4fd64027\n",
    "# Top Christian & Gospel : https://open.spotify.com/playlist/37i9dQZF1DXcb6CQIjdqKy?si=b9fe214ed75b4190\n",
    "# Rainbow Mix : https://open.spotify.com/playlist/37i9dQZF1DX3lPnCj14MCY?si=915d3d3bfcb54460\n",
    "# Classic Roadtrip Songs : https://open.spotify.com/playlist/37i9dQZF1DX9wC1KY45plY?si=9bba8553b4e241bb\n",
    "# 70s Road Trip : https://open.spotify.com/playlist/37i9dQZF1DWWiDhnQ2IIru?si=876c21b38dd746ee\n",
    "# Home for Christmas : https://open.spotify.com/playlist/37i9dQZF1DX4YPvoFXY6lj?si=0e1e7afeeec245f5\n",
    "# Let's Get Funky : https://open.spotify.com/playlist/37i9dQZF1DWVKqzBo1JsCN?si=6b985610ab9f43c3"
   ]
  },
  {
   "cell_type": "code",
   "execution_count": null,
   "id": "2d790f01",
   "metadata": {},
   "outputs": [],
   "source": [
    "playlist_id_list_2 = ['37i9dQZF1DXasneILDRM7B','37i9dQZF1DWUrPBdYfoJvz','37i9dQZF1DXbENHm2OgowX','37i9dQZF1DXcb6CQIjdqKy','37i9dQZF1DX3lPnCj14MCY','37i9dQZF1DX9wC1KY45plY','37i9dQZF1DWWiDhnQ2IIru','37i9dQZF1DX4YPvoFXY6lj','37i9dQZF1DWVKqzBo1JsCN']"
   ]
  },
  {
   "cell_type": "code",
   "execution_count": null,
   "id": "6a5826c2",
   "metadata": {},
   "outputs": [],
   "source": [
    "for pl_id in playlist_id_list_2:\n",
    "    temp = get_audio_features_from_playlist(pl_id)\n",
    "    full_data = pd.concat([full_data, temp], axis=0)"
   ]
  },
  {
   "cell_type": "code",
   "execution_count": null,
   "id": "cc279f6c",
   "metadata": {},
   "outputs": [],
   "source": [
    "full_data.shape"
   ]
  },
  {
   "cell_type": "code",
   "execution_count": null,
   "id": "8ae3e9a8",
   "metadata": {},
   "outputs": [],
   "source": [
    "full_data.isna().sum()"
   ]
  },
  {
   "cell_type": "code",
   "execution_count": null,
   "id": "c6bb2cbf",
   "metadata": {},
   "outputs": [],
   "source": [
    "full_data.to_csv('full_data.csv', index=False)"
   ]
  },
  {
   "cell_type": "code",
   "execution_count": null,
   "id": "9503a787",
   "metadata": {},
   "outputs": [],
   "source": []
  },
  {
   "cell_type": "markdown",
   "id": "08ffeb55",
   "metadata": {},
   "source": [
    "# Try to retrieve data from title and Artist (using data from previous lab)"
   ]
  },
  {
   "cell_type": "code",
   "execution_count": 6,
   "id": "ded57851",
   "metadata": {},
   "outputs": [],
   "source": [
    "from bs4 import BeautifulSoup\n",
    "import requests"
   ]
  },
  {
   "cell_type": "code",
   "execution_count": 7,
   "id": "619e319d",
   "metadata": {},
   "outputs": [],
   "source": [
    "def list_scraping(genre, year):\n",
    "    # create URL\n",
    "    url_scrap = \"https://playback.fm/charts/\"+ genre +\"/\"+ str(year)\n",
    "    # Create request\n",
    "    resp_scrap = requests.get(url_scrap)\n",
    "    # Parse the response\n",
    "    soup_scrap = BeautifulSoup(resp_scrap.content, \"html.parser\")\n",
    "    \n",
    "    # Get list of titles and artists\n",
    "    title_scrap = []\n",
    "    artist_scrap = []\n",
    "    for song in soup_scrap.select(\"span.song > a\"):\n",
    "        title_scrap.append(song.get_text().replace('\\n',''))\n",
    "    for artist in soup_scrap.select(\"a.artist\"):\n",
    "        artist_scrap.append(artist.get_text().replace('\\n',''))\n",
    "    \n",
    "    # create dataframe\n",
    "    data = pd.DataFrame({\"track_name\":title_scrap, \"artist_name\":artist_scrap })\n",
    "    \n",
    "    return data"
   ]
  },
  {
   "cell_type": "code",
   "execution_count": null,
   "id": "f2fb8b7b",
   "metadata": {},
   "outputs": [],
   "source": [
    "test_df = list_scraping('rock', 2000)\n",
    "test_df"
   ]
  },
  {
   "cell_type": "code",
   "execution_count": null,
   "id": "d85222e3",
   "metadata": {},
   "outputs": [],
   "source": [
    "type(test_df)"
   ]
  },
  {
   "cell_type": "code",
   "execution_count": 8,
   "id": "30427e5f",
   "metadata": {},
   "outputs": [],
   "source": [
    "genre_list = ['rock', 'country', 'rnb', 'brasil']\n",
    "year_range = range(2000,2022)"
   ]
  },
  {
   "cell_type": "code",
   "execution_count": 9,
   "id": "51f17479",
   "metadata": {},
   "outputs": [
    {
     "data": {
      "text/plain": [
       "(8200, 2)"
      ]
     },
     "execution_count": 9,
     "metadata": {},
     "output_type": "execute_result"
    }
   ],
   "source": [
    "playback_fm = pd.DataFrame(columns = ['track_name','artist_name'])\n",
    "\n",
    "for genre in genre_list:\n",
    "    for year in year_range:\n",
    "        temp_df = list_scraping(genre, year)\n",
    "        if len(temp_df['track_name']) > 0:\n",
    "            playback_fm = pd.concat([playback_fm, temp_df],axis=0)\n",
    "\n",
    "playback_fm.shape"
   ]
  },
  {
   "cell_type": "code",
   "execution_count": 10,
   "id": "e49afc77",
   "metadata": {},
   "outputs": [],
   "source": [
    "playback_fm = playback_fm.reset_index(drop=True)"
   ]
  },
  {
   "cell_type": "code",
   "execution_count": null,
   "id": "50e9e7dc",
   "metadata": {},
   "outputs": [],
   "source": [
    "playback_fm"
   ]
  },
  {
   "cell_type": "code",
   "execution_count": 11,
   "id": "7198a1a4",
   "metadata": {},
   "outputs": [],
   "source": [
    "playback_fm.to_csv('playback_fm.csv')"
   ]
  },
  {
   "cell_type": "code",
   "execution_count": null,
   "id": "f31a0775",
   "metadata": {},
   "outputs": [],
   "source": [
    "# Let's try to find the uri for one song\n",
    "print(playback_fm['track_name'][0])\n",
    "print(playback_fm['artist_name'][0])"
   ]
  },
  {
   "cell_type": "code",
   "execution_count": null,
   "id": "de838c57",
   "metadata": {},
   "outputs": [],
   "source": [
    "trial = sp.search(q='artist:' + playback_fm['artist_name'][0], type='artist')\n",
    "trial"
   ]
  },
  {
   "cell_type": "code",
   "execution_count": null,
   "id": "daf5eb11",
   "metadata": {},
   "outputs": [],
   "source": [
    "res = sp.search(q='track:' + playback_fm['track_name'][0], type='track')\n",
    "res"
   ]
  },
  {
   "cell_type": "code",
   "execution_count": null,
   "id": "fc003f64",
   "metadata": {},
   "outputs": [],
   "source": [
    "res_track_keys = res['tracks'].keys()\n",
    "res_track_keys"
   ]
  },
  {
   "cell_type": "code",
   "execution_count": null,
   "id": "3b273c5d",
   "metadata": {},
   "outputs": [],
   "source": [
    "res['tracks']['next']"
   ]
  },
  {
   "cell_type": "code",
   "execution_count": null,
   "id": "4e34e136",
   "metadata": {},
   "outputs": [],
   "source": [
    "type(res)"
   ]
  },
  {
   "cell_type": "code",
   "execution_count": null,
   "id": "c72ff9b9",
   "metadata": {},
   "outputs": [],
   "source": [
    "res.keys()"
   ]
  },
  {
   "cell_type": "code",
   "execution_count": null,
   "id": "b4bad055",
   "metadata": {},
   "outputs": [],
   "source": [
    "res_tracks_items = res['tracks']['items']\n",
    "res_tracks_items"
   ]
  },
  {
   "cell_type": "code",
   "execution_count": null,
   "id": "560abc4c",
   "metadata": {},
   "outputs": [],
   "source": [
    "res_track_items_df = pd.DataFrame(res['tracks']['items'])\n",
    "res_track_items_df"
   ]
  },
  {
   "cell_type": "markdown",
   "id": "ea30a608",
   "metadata": {},
   "source": [
    "I see here in the name column that in the songs returned by Spotipy, we have songs contains the title we have put but are not exact matches."
   ]
  },
  {
   "cell_type": "code",
   "execution_count": null,
   "id": "2a7e1869",
   "metadata": {},
   "outputs": [],
   "source": [
    "name_searched = playback_fm['track_name'][0].lower()\n",
    "name_searched"
   ]
  },
  {
   "cell_type": "code",
   "execution_count": null,
   "id": "b1a6bf98",
   "metadata": {},
   "outputs": [],
   "source": [
    "res_track_items_df['name'] = res_track_items_df['name'].apply(lambda x: x.lower())\n",
    "res_track_items_df = res_track_items_df[res_track_items_df['name'] == name_searched].reset_index(drop = True)\n",
    "res_track_items_df"
   ]
  },
  {
   "cell_type": "code",
   "execution_count": null,
   "id": "a1a139af",
   "metadata": {},
   "outputs": [],
   "source": [
    "res_track_items_df['artists']"
   ]
  },
  {
   "cell_type": "markdown",
   "id": "35836abb",
   "metadata": {},
   "source": [
    "From this, I can extract the list of artists and check if one matches with what we were looking for. I can then retrieve the Spotify id of the right song."
   ]
  },
  {
   "cell_type": "code",
   "execution_count": null,
   "id": "5f93816e",
   "metadata": {},
   "outputs": [],
   "source": [
    "res_track_items_df['artists'][0][0]['name']"
   ]
  },
  {
   "cell_type": "code",
   "execution_count": null,
   "id": "818ea28e",
   "metadata": {},
   "outputs": [],
   "source": [
    "artist_searched = playback_fm['artist_name'][0].lower()\n",
    "artist_searched"
   ]
  },
  {
   "cell_type": "code",
   "execution_count": null,
   "id": "589ba3bb",
   "metadata": {},
   "outputs": [],
   "source": [
    "for i in range(len(res_track_items_df['artists'])):\n",
    "    art = res_track_items_df['artists'][i][0]['name'].lower()\n",
    "    song_id = res_track_items_df['id'][i]\n",
    "    print(art)\n",
    "    print(song_id)"
   ]
  },
  {
   "cell_type": "code",
   "execution_count": null,
   "id": "66a38a31",
   "metadata": {},
   "outputs": [],
   "source": []
  },
  {
   "cell_type": "markdown",
   "id": "a32a9d74",
   "metadata": {},
   "source": [
    "Let's make this a function."
   ]
  },
  {
   "cell_type": "code",
   "execution_count": 12,
   "id": "1d7d622e",
   "metadata": {},
   "outputs": [],
   "source": [
    "def search_song_id(row):\n",
    "    # get name of the track and artist\n",
    "    track_searched = row['track_name'].lower()\n",
    "    artist_searched = row['artist_name'].lower()\n",
    "    \n",
    "    # Get data from Spotify\n",
    "    res = sp.search(q='track:' + track_searched, type='track', limit=50)\n",
    "    data = res['tracks']['items']\n",
    "\n",
    "    # I wanted to extract more than the limit when Spotify returns more songs, but I cannot make it work\n",
    "    #     while res['tracks']['next']!=None:\n",
    "#         res = sp.next(res['tracks'])\n",
    "#         data = data + res['tracks']['items']\n",
    "#         sleep(randint(1,3))\n",
    "        \n",
    "    # Create Dataframe with the requests out of Spotify API\n",
    "    data = pd.DataFrame(data)\n",
    "    \n",
    "    # Lower song names\n",
    "    data['name'] = data['name'].apply(lambda x: x.lower())\n",
    "    # filter the Dataframe to keep only exactly matching track names\n",
    "    data = data[data['name'] == track_searched].reset_index(drop = True)\n",
    "    \n",
    "    # initiate empty track_id\n",
    "    track_id = None\n",
    "    \n",
    "    # we review the artists and if one matches the one we search, we get the track_id\n",
    "    for i in range(len(data['artists'])):\n",
    "        art = data['artists'][i][0]['name'].lower()\n",
    "        if art == artist_searched:\n",
    "            track_id = data['id'][i]\n",
    "            break\n",
    "    sleep(randint(1,3))\n",
    "    return track_id"
   ]
  },
  {
   "cell_type": "code",
   "execution_count": 13,
   "id": "cc8cf937",
   "metadata": {},
   "outputs": [
    {
     "data": {
      "text/html": [
       "<div>\n",
       "<style scoped>\n",
       "    .dataframe tbody tr th:only-of-type {\n",
       "        vertical-align: middle;\n",
       "    }\n",
       "\n",
       "    .dataframe tbody tr th {\n",
       "        vertical-align: top;\n",
       "    }\n",
       "\n",
       "    .dataframe thead th {\n",
       "        text-align: right;\n",
       "    }\n",
       "</style>\n",
       "<table border=\"1\" class=\"dataframe\">\n",
       "  <thead>\n",
       "    <tr style=\"text-align: right;\">\n",
       "      <th></th>\n",
       "      <th>track_name</th>\n",
       "      <th>artist_name</th>\n",
       "    </tr>\n",
       "  </thead>\n",
       "  <tbody>\n",
       "    <tr>\n",
       "      <th>0</th>\n",
       "      <td>Loser</td>\n",
       "      <td>3 Doors Down</td>\n",
       "    </tr>\n",
       "    <tr>\n",
       "      <th>2</th>\n",
       "      <td>Kryptonite</td>\n",
       "      <td>3 Doors Down</td>\n",
       "    </tr>\n",
       "    <tr>\n",
       "      <th>121</th>\n",
       "      <td>Duck and Run</td>\n",
       "      <td>3 Doors Down</td>\n",
       "    </tr>\n",
       "    <tr>\n",
       "      <th>194</th>\n",
       "      <td>Be Like That</td>\n",
       "      <td>3 Doors Down</td>\n",
       "    </tr>\n",
       "    <tr>\n",
       "      <th>200</th>\n",
       "      <td>When I'm Gone</td>\n",
       "      <td>3 Doors Down</td>\n",
       "    </tr>\n",
       "    <tr>\n",
       "      <th>391</th>\n",
       "      <td>Here without You</td>\n",
       "      <td>3 Doors Down</td>\n",
       "    </tr>\n",
       "    <tr>\n",
       "      <th>416</th>\n",
       "      <td>Let Me Go</td>\n",
       "      <td>3 Doors Down</td>\n",
       "    </tr>\n",
       "    <tr>\n",
       "      <th>532</th>\n",
       "      <td>Let Me Go</td>\n",
       "      <td>3 Doors Down</td>\n",
       "    </tr>\n",
       "    <tr>\n",
       "      <th>578</th>\n",
       "      <td>Live For Today</td>\n",
       "      <td>3 Doors Down</td>\n",
       "    </tr>\n",
       "    <tr>\n",
       "      <th>810</th>\n",
       "      <td>It's Not My Time</td>\n",
       "      <td>3 Doors Down</td>\n",
       "    </tr>\n",
       "    <tr>\n",
       "      <th>853</th>\n",
       "      <td>Train</td>\n",
       "      <td>3 Doors Down</td>\n",
       "    </tr>\n",
       "    <tr>\n",
       "      <th>988</th>\n",
       "      <td>Citizen/Soldier</td>\n",
       "      <td>3 Doors Down</td>\n",
       "    </tr>\n",
       "    <tr>\n",
       "      <th>1165</th>\n",
       "      <td>When You're Young</td>\n",
       "      <td>3 Doors Down</td>\n",
       "    </tr>\n",
       "    <tr>\n",
       "      <th>1186</th>\n",
       "      <td>Every Time You Go</td>\n",
       "      <td>3 Doors Down</td>\n",
       "    </tr>\n",
       "    <tr>\n",
       "      <th>1365</th>\n",
       "      <td>One Light</td>\n",
       "      <td>3 Doors Down</td>\n",
       "    </tr>\n",
       "    <tr>\n",
       "      <th>1629</th>\n",
       "      <td>In The Dark</td>\n",
       "      <td>3 Doors Down</td>\n",
       "    </tr>\n",
       "    <tr>\n",
       "      <th>1656</th>\n",
       "      <td>Still Alive</td>\n",
       "      <td>3 Doors Down</td>\n",
       "    </tr>\n",
       "  </tbody>\n",
       "</table>\n",
       "</div>"
      ],
      "text/plain": [
       "             track_name   artist_name\n",
       "0                 Loser  3 Doors Down\n",
       "2            Kryptonite  3 Doors Down\n",
       "121        Duck and Run  3 Doors Down\n",
       "194        Be Like That  3 Doors Down\n",
       "200       When I'm Gone  3 Doors Down\n",
       "391    Here without You  3 Doors Down\n",
       "416           Let Me Go  3 Doors Down\n",
       "532           Let Me Go  3 Doors Down\n",
       "578      Live For Today  3 Doors Down\n",
       "810    It's Not My Time  3 Doors Down\n",
       "853               Train  3 Doors Down\n",
       "988     Citizen/Soldier  3 Doors Down\n",
       "1165  When You're Young  3 Doors Down\n",
       "1186  Every Time You Go  3 Doors Down\n",
       "1365          One Light  3 Doors Down\n",
       "1629        In The Dark  3 Doors Down\n",
       "1656        Still Alive  3 Doors Down"
      ]
     },
     "execution_count": 13,
     "metadata": {},
     "output_type": "execute_result"
    }
   ],
   "source": [
    "# Let's try the function on a smaller dataframe.\n",
    "test_data = playback_fm[playback_fm['artist_name']==playback_fm['artist_name'][0]].copy()\n",
    "test_data"
   ]
  },
  {
   "cell_type": "code",
   "execution_count": 14,
   "id": "a75b7e26",
   "metadata": {},
   "outputs": [
    {
     "data": {
      "text/html": [
       "<div>\n",
       "<style scoped>\n",
       "    .dataframe tbody tr th:only-of-type {\n",
       "        vertical-align: middle;\n",
       "    }\n",
       "\n",
       "    .dataframe tbody tr th {\n",
       "        vertical-align: top;\n",
       "    }\n",
       "\n",
       "    .dataframe thead th {\n",
       "        text-align: right;\n",
       "    }\n",
       "</style>\n",
       "<table border=\"1\" class=\"dataframe\">\n",
       "  <thead>\n",
       "    <tr style=\"text-align: right;\">\n",
       "      <th></th>\n",
       "      <th>track_name</th>\n",
       "      <th>artist_name</th>\n",
       "      <th>track_id</th>\n",
       "    </tr>\n",
       "  </thead>\n",
       "  <tbody>\n",
       "    <tr>\n",
       "      <th>0</th>\n",
       "      <td>Loser</td>\n",
       "      <td>3 Doors Down</td>\n",
       "      <td>1aC1IBAETh2XYGOE8kCC6t</td>\n",
       "    </tr>\n",
       "    <tr>\n",
       "      <th>2</th>\n",
       "      <td>Kryptonite</td>\n",
       "      <td>3 Doors Down</td>\n",
       "      <td>6ZOBP3NvffbU4SZcrnt1k6</td>\n",
       "    </tr>\n",
       "    <tr>\n",
       "      <th>121</th>\n",
       "      <td>Duck and Run</td>\n",
       "      <td>3 Doors Down</td>\n",
       "      <td>0s8OsDxW96cl290PcsI2mX</td>\n",
       "    </tr>\n",
       "    <tr>\n",
       "      <th>194</th>\n",
       "      <td>Be Like That</td>\n",
       "      <td>3 Doors Down</td>\n",
       "      <td>3PbHle8KhJp6GuO1jLdEmQ</td>\n",
       "    </tr>\n",
       "    <tr>\n",
       "      <th>200</th>\n",
       "      <td>When I'm Gone</td>\n",
       "      <td>3 Doors Down</td>\n",
       "      <td>3WbphvawbMZ8FyqDxYGdSQ</td>\n",
       "    </tr>\n",
       "    <tr>\n",
       "      <th>391</th>\n",
       "      <td>Here without You</td>\n",
       "      <td>3 Doors Down</td>\n",
       "      <td>3NLrRZoMF0Lx6zTlYqeIo4</td>\n",
       "    </tr>\n",
       "    <tr>\n",
       "      <th>416</th>\n",
       "      <td>Let Me Go</td>\n",
       "      <td>3 Doors Down</td>\n",
       "      <td>0nNVR2iDM3eVzEgMi78vQm</td>\n",
       "    </tr>\n",
       "    <tr>\n",
       "      <th>532</th>\n",
       "      <td>Let Me Go</td>\n",
       "      <td>3 Doors Down</td>\n",
       "      <td>0nNVR2iDM3eVzEgMi78vQm</td>\n",
       "    </tr>\n",
       "    <tr>\n",
       "      <th>578</th>\n",
       "      <td>Live For Today</td>\n",
       "      <td>3 Doors Down</td>\n",
       "      <td>1fZLcY8rJze7s8ly8SZLqH</td>\n",
       "    </tr>\n",
       "    <tr>\n",
       "      <th>810</th>\n",
       "      <td>It's Not My Time</td>\n",
       "      <td>3 Doors Down</td>\n",
       "      <td>0uybt73QFXaLCoxuVf6fhm</td>\n",
       "    </tr>\n",
       "    <tr>\n",
       "      <th>853</th>\n",
       "      <td>Train</td>\n",
       "      <td>3 Doors Down</td>\n",
       "      <td>None</td>\n",
       "    </tr>\n",
       "    <tr>\n",
       "      <th>988</th>\n",
       "      <td>Citizen/Soldier</td>\n",
       "      <td>3 Doors Down</td>\n",
       "      <td>7fKsaiVDwKe6VVsiGk48YG</td>\n",
       "    </tr>\n",
       "    <tr>\n",
       "      <th>1165</th>\n",
       "      <td>When You're Young</td>\n",
       "      <td>3 Doors Down</td>\n",
       "      <td>6uMPJ3NmW8FfqqNwqjUHrB</td>\n",
       "    </tr>\n",
       "    <tr>\n",
       "      <th>1186</th>\n",
       "      <td>Every Time You Go</td>\n",
       "      <td>3 Doors Down</td>\n",
       "      <td>4I6atV4d653wfjWxAovbEE</td>\n",
       "    </tr>\n",
       "    <tr>\n",
       "      <th>1365</th>\n",
       "      <td>One Light</td>\n",
       "      <td>3 Doors Down</td>\n",
       "      <td>None</td>\n",
       "    </tr>\n",
       "    <tr>\n",
       "      <th>1629</th>\n",
       "      <td>In The Dark</td>\n",
       "      <td>3 Doors Down</td>\n",
       "      <td>None</td>\n",
       "    </tr>\n",
       "    <tr>\n",
       "      <th>1656</th>\n",
       "      <td>Still Alive</td>\n",
       "      <td>3 Doors Down</td>\n",
       "      <td>6cJRjKolnLTz0Q0TbwJaSv</td>\n",
       "    </tr>\n",
       "  </tbody>\n",
       "</table>\n",
       "</div>"
      ],
      "text/plain": [
       "             track_name   artist_name                track_id\n",
       "0                 Loser  3 Doors Down  1aC1IBAETh2XYGOE8kCC6t\n",
       "2            Kryptonite  3 Doors Down  6ZOBP3NvffbU4SZcrnt1k6\n",
       "121        Duck and Run  3 Doors Down  0s8OsDxW96cl290PcsI2mX\n",
       "194        Be Like That  3 Doors Down  3PbHle8KhJp6GuO1jLdEmQ\n",
       "200       When I'm Gone  3 Doors Down  3WbphvawbMZ8FyqDxYGdSQ\n",
       "391    Here without You  3 Doors Down  3NLrRZoMF0Lx6zTlYqeIo4\n",
       "416           Let Me Go  3 Doors Down  0nNVR2iDM3eVzEgMi78vQm\n",
       "532           Let Me Go  3 Doors Down  0nNVR2iDM3eVzEgMi78vQm\n",
       "578      Live For Today  3 Doors Down  1fZLcY8rJze7s8ly8SZLqH\n",
       "810    It's Not My Time  3 Doors Down  0uybt73QFXaLCoxuVf6fhm\n",
       "853               Train  3 Doors Down                    None\n",
       "988     Citizen/Soldier  3 Doors Down  7fKsaiVDwKe6VVsiGk48YG\n",
       "1165  When You're Young  3 Doors Down  6uMPJ3NmW8FfqqNwqjUHrB\n",
       "1186  Every Time You Go  3 Doors Down  4I6atV4d653wfjWxAovbEE\n",
       "1365          One Light  3 Doors Down                    None\n",
       "1629        In The Dark  3 Doors Down                    None\n",
       "1656        Still Alive  3 Doors Down  6cJRjKolnLTz0Q0TbwJaSv"
      ]
     },
     "execution_count": 14,
     "metadata": {},
     "output_type": "execute_result"
    }
   ],
   "source": [
    "test_data['track_id'] = test_data.apply(search_song_id, axis=1)\n",
    "test_data"
   ]
  },
  {
   "cell_type": "markdown",
   "id": "72699991",
   "metadata": {},
   "source": [
    "#### Yippie !!! It seems to work !! "
   ]
  },
  {
   "cell_type": "markdown",
   "id": "7beb8b89",
   "metadata": {},
   "source": [
    "Now I can apply it to the full PlayBack FM data set, but it is gonna last forever..."
   ]
  },
  {
   "cell_type": "markdown",
   "id": "73341d2d",
   "metadata": {},
   "source": [
    "I will first upload a version of the la to github and let it run all night afterwards."
   ]
  },
  {
   "cell_type": "markdown",
   "id": "783b5531",
   "metadata": {},
   "source": [
    "# New trial"
   ]
  },
  {
   "cell_type": "markdown",
   "id": "85ce3da5",
   "metadata": {},
   "source": [
    "I have just discovered how to make searches on song & artist at the same time. This significantly optimizes the size of the answer everytime.\n",
    "https://stackoverflow.com/questions/38664235/how-to-look-up-spotify-ids-song-track-ids-in-bulk"
   ]
  },
  {
   "cell_type": "code",
   "execution_count": null,
   "id": "431aef61",
   "metadata": {},
   "outputs": [],
   "source": [
    "trial_2 = sp.search(q='track:' + playback_fm['track_name'][0] + ' artist:' + playback_fm['artist_name'][0], type='track')\n",
    "trial_2"
   ]
  },
  {
   "cell_type": "code",
   "execution_count": null,
   "id": "2b252aae",
   "metadata": {},
   "outputs": [],
   "source": [
    "trial_2['tracks'].keys()"
   ]
  },
  {
   "cell_type": "code",
   "execution_count": null,
   "id": "fb5f0508",
   "metadata": {},
   "outputs": [],
   "source": [
    "trial_2['tracks']['items'][0].keys()"
   ]
  },
  {
   "cell_type": "code",
   "execution_count": null,
   "id": "380091e2",
   "metadata": {},
   "outputs": [],
   "source": [
    "trial_2['tracks']['items'][0]['name']"
   ]
  },
  {
   "cell_type": "code",
   "execution_count": null,
   "id": "5f5fd232",
   "metadata": {},
   "outputs": [],
   "source": [
    "trial_2['tracks']['items'][0]['artists'][0]['name']"
   ]
  },
  {
   "cell_type": "code",
   "execution_count": null,
   "id": "cc571df3",
   "metadata": {},
   "outputs": [],
   "source": [
    "trial_2['tracks']['items'][1]['artists'][0]['name']"
   ]
  },
  {
   "cell_type": "code",
   "execution_count": null,
   "id": "115cd740",
   "metadata": {},
   "outputs": [],
   "source": [
    "trial_2['tracks']['items'][2]['artists'][0]['name']"
   ]
  },
  {
   "cell_type": "code",
   "execution_count": null,
   "id": "0ce0e7aa",
   "metadata": {},
   "outputs": [],
   "source": [
    "trial_2['tracks']['items'][1]['name']"
   ]
  },
  {
   "cell_type": "code",
   "execution_count": null,
   "id": "d111bc9e",
   "metadata": {},
   "outputs": [],
   "source": [
    "for i in range(len(trial_2['tracks']['items'])):\n",
    "    print(trial_2['tracks']['items'][i]['name'], trial_2['tracks']['items'][i]['artists'][0]['name'], trial_2['tracks']['items'][i]['id'])"
   ]
  },
  {
   "cell_type": "code",
   "execution_count": null,
   "id": "584526ef",
   "metadata": {},
   "outputs": [],
   "source": []
  },
  {
   "cell_type": "code",
   "execution_count": null,
   "id": "3df32a63",
   "metadata": {},
   "outputs": [],
   "source": [
    "print(playback_fm['track_name'][1])\n",
    "print(playback_fm['artist_name'][1])\n",
    "trial_3 = sp.search(q='track:' + playback_fm['track_name'][1] + ' artist:' + playback_fm['artist_name'][1], type='track')\n",
    "for i in range(len(trial_3['tracks']['items'])):\n",
    "    print(trial_3['tracks']['items'][i]['name'], trial_3['tracks']['items'][i]['artists'][0]['name'], trial_3['tracks']['items'][i]['id'])"
   ]
  },
  {
   "cell_type": "code",
   "execution_count": null,
   "id": "df221afd",
   "metadata": {},
   "outputs": [],
   "source": [
    "sp.search(q='track:' + 'this wont exist' + ' artist:' + 'wont exist either', type='track', limit=50)"
   ]
  },
  {
   "cell_type": "code",
   "execution_count": 15,
   "id": "9fb879e5",
   "metadata": {},
   "outputs": [],
   "source": [
    "def search_song_id_2(row):\n",
    "    # get name of the track and artist\n",
    "    track_searched = row['track_name'].lower()\n",
    "    artist_searched = row['artist_name'].lower()\n",
    "    \n",
    "    # initiate empty track_id\n",
    "    track_id = None    \n",
    "    \n",
    "    # Get data from Spotify\n",
    "    res = sp.search(q='track:' + track_searched + ' artist:' + artist_searched, type='track', limit=50)\n",
    "    data = res['tracks']['items']\n",
    "    \n",
    "    if len(data)==0:\n",
    "        return track_id\n",
    "\n",
    "    # I wanted to extract more than the limit when Spotify returns more songs, but I cannot make it work\n",
    "    #     while res['tracks']['next']!=None:\n",
    "#         res = sp.next(res['tracks'])\n",
    "#         data = data + res['tracks']['items']\n",
    "#         sleep(randint(1,3))\n",
    "        \n",
    "    # Create Dataframe with the requests out of Spotify API\n",
    "    data = pd.DataFrame(data)\n",
    "    \n",
    "    # Lower song names\n",
    "    data['name'] = data['name'].apply(lambda x: x.lower())\n",
    "    # filter the Dataframe to keep only exactly matching track names\n",
    "    data = data[data['name'] == track_searched].reset_index(drop = True)\n",
    "    \n",
    "    # we review the artists and if one matches the one we search, we get the track_id\n",
    "    for i in range(len(data['artists'])):\n",
    "        art = data['artists'][i][0]['name'].lower()\n",
    "        if art == artist_searched:\n",
    "            track_id = data['id'][i]\n",
    "            break\n",
    "    sleep(randint(1,3))\n",
    "    return track_id"
   ]
  },
  {
   "cell_type": "code",
   "execution_count": 16,
   "id": "e2953a5c",
   "metadata": {},
   "outputs": [
    {
     "data": {
      "text/html": [
       "<div>\n",
       "<style scoped>\n",
       "    .dataframe tbody tr th:only-of-type {\n",
       "        vertical-align: middle;\n",
       "    }\n",
       "\n",
       "    .dataframe tbody tr th {\n",
       "        vertical-align: top;\n",
       "    }\n",
       "\n",
       "    .dataframe thead th {\n",
       "        text-align: right;\n",
       "    }\n",
       "</style>\n",
       "<table border=\"1\" class=\"dataframe\">\n",
       "  <thead>\n",
       "    <tr style=\"text-align: right;\">\n",
       "      <th></th>\n",
       "      <th>track_name</th>\n",
       "      <th>artist_name</th>\n",
       "      <th>track_id</th>\n",
       "    </tr>\n",
       "  </thead>\n",
       "  <tbody>\n",
       "    <tr>\n",
       "      <th>0</th>\n",
       "      <td>Loser</td>\n",
       "      <td>3 Doors Down</td>\n",
       "      <td>1aC1IBAETh2XYGOE8kCC6t</td>\n",
       "    </tr>\n",
       "    <tr>\n",
       "      <th>2</th>\n",
       "      <td>Kryptonite</td>\n",
       "      <td>3 Doors Down</td>\n",
       "      <td>6ZOBP3NvffbU4SZcrnt1k6</td>\n",
       "    </tr>\n",
       "    <tr>\n",
       "      <th>121</th>\n",
       "      <td>Duck and Run</td>\n",
       "      <td>3 Doors Down</td>\n",
       "      <td>0s8OsDxW96cl290PcsI2mX</td>\n",
       "    </tr>\n",
       "    <tr>\n",
       "      <th>194</th>\n",
       "      <td>Be Like That</td>\n",
       "      <td>3 Doors Down</td>\n",
       "      <td>3PbHle8KhJp6GuO1jLdEmQ</td>\n",
       "    </tr>\n",
       "    <tr>\n",
       "      <th>200</th>\n",
       "      <td>When I'm Gone</td>\n",
       "      <td>3 Doors Down</td>\n",
       "      <td>3WbphvawbMZ8FyqDxYGdSQ</td>\n",
       "    </tr>\n",
       "    <tr>\n",
       "      <th>391</th>\n",
       "      <td>Here without You</td>\n",
       "      <td>3 Doors Down</td>\n",
       "      <td>3NLrRZoMF0Lx6zTlYqeIo4</td>\n",
       "    </tr>\n",
       "    <tr>\n",
       "      <th>416</th>\n",
       "      <td>Let Me Go</td>\n",
       "      <td>3 Doors Down</td>\n",
       "      <td>0nNVR2iDM3eVzEgMi78vQm</td>\n",
       "    </tr>\n",
       "    <tr>\n",
       "      <th>532</th>\n",
       "      <td>Let Me Go</td>\n",
       "      <td>3 Doors Down</td>\n",
       "      <td>0nNVR2iDM3eVzEgMi78vQm</td>\n",
       "    </tr>\n",
       "    <tr>\n",
       "      <th>578</th>\n",
       "      <td>Live For Today</td>\n",
       "      <td>3 Doors Down</td>\n",
       "      <td>1fZLcY8rJze7s8ly8SZLqH</td>\n",
       "    </tr>\n",
       "    <tr>\n",
       "      <th>810</th>\n",
       "      <td>It's Not My Time</td>\n",
       "      <td>3 Doors Down</td>\n",
       "      <td>0uybt73QFXaLCoxuVf6fhm</td>\n",
       "    </tr>\n",
       "    <tr>\n",
       "      <th>853</th>\n",
       "      <td>Train</td>\n",
       "      <td>3 Doors Down</td>\n",
       "      <td>65NzNVv3O6nxffiXXeL9ZT</td>\n",
       "    </tr>\n",
       "    <tr>\n",
       "      <th>988</th>\n",
       "      <td>Citizen/Soldier</td>\n",
       "      <td>3 Doors Down</td>\n",
       "      <td>7fKsaiVDwKe6VVsiGk48YG</td>\n",
       "    </tr>\n",
       "    <tr>\n",
       "      <th>1165</th>\n",
       "      <td>When You're Young</td>\n",
       "      <td>3 Doors Down</td>\n",
       "      <td>6uMPJ3NmW8FfqqNwqjUHrB</td>\n",
       "    </tr>\n",
       "    <tr>\n",
       "      <th>1186</th>\n",
       "      <td>Every Time You Go</td>\n",
       "      <td>3 Doors Down</td>\n",
       "      <td>4I6atV4d653wfjWxAovbEE</td>\n",
       "    </tr>\n",
       "    <tr>\n",
       "      <th>1365</th>\n",
       "      <td>One Light</td>\n",
       "      <td>3 Doors Down</td>\n",
       "      <td>6sIYRzeM8ke76g4zudDJF1</td>\n",
       "    </tr>\n",
       "    <tr>\n",
       "      <th>1629</th>\n",
       "      <td>In The Dark</td>\n",
       "      <td>3 Doors Down</td>\n",
       "      <td>1ILnhyARReabVz7U2oDQMm</td>\n",
       "    </tr>\n",
       "    <tr>\n",
       "      <th>1656</th>\n",
       "      <td>Still Alive</td>\n",
       "      <td>3 Doors Down</td>\n",
       "      <td>6cJRjKolnLTz0Q0TbwJaSv</td>\n",
       "    </tr>\n",
       "  </tbody>\n",
       "</table>\n",
       "</div>"
      ],
      "text/plain": [
       "             track_name   artist_name                track_id\n",
       "0                 Loser  3 Doors Down  1aC1IBAETh2XYGOE8kCC6t\n",
       "2            Kryptonite  3 Doors Down  6ZOBP3NvffbU4SZcrnt1k6\n",
       "121        Duck and Run  3 Doors Down  0s8OsDxW96cl290PcsI2mX\n",
       "194        Be Like That  3 Doors Down  3PbHle8KhJp6GuO1jLdEmQ\n",
       "200       When I'm Gone  3 Doors Down  3WbphvawbMZ8FyqDxYGdSQ\n",
       "391    Here without You  3 Doors Down  3NLrRZoMF0Lx6zTlYqeIo4\n",
       "416           Let Me Go  3 Doors Down  0nNVR2iDM3eVzEgMi78vQm\n",
       "532           Let Me Go  3 Doors Down  0nNVR2iDM3eVzEgMi78vQm\n",
       "578      Live For Today  3 Doors Down  1fZLcY8rJze7s8ly8SZLqH\n",
       "810    It's Not My Time  3 Doors Down  0uybt73QFXaLCoxuVf6fhm\n",
       "853               Train  3 Doors Down  65NzNVv3O6nxffiXXeL9ZT\n",
       "988     Citizen/Soldier  3 Doors Down  7fKsaiVDwKe6VVsiGk48YG\n",
       "1165  When You're Young  3 Doors Down  6uMPJ3NmW8FfqqNwqjUHrB\n",
       "1186  Every Time You Go  3 Doors Down  4I6atV4d653wfjWxAovbEE\n",
       "1365          One Light  3 Doors Down  6sIYRzeM8ke76g4zudDJF1\n",
       "1629        In The Dark  3 Doors Down  1ILnhyARReabVz7U2oDQMm\n",
       "1656        Still Alive  3 Doors Down  6cJRjKolnLTz0Q0TbwJaSv"
      ]
     },
     "execution_count": 16,
     "metadata": {},
     "output_type": "execute_result"
    }
   ],
   "source": [
    "# Let's try the function on a smaller dataframe.\n",
    "test_data_2 = playback_fm[playback_fm['artist_name']==playback_fm['artist_name'][0]].copy()\n",
    "test_data_2['track_id'] = test_data.apply(search_song_id_2, axis=1)\n",
    "test_data_2"
   ]
  },
  {
   "cell_type": "markdown",
   "id": "faf618de",
   "metadata": {},
   "source": [
    "This new version is more efficient, it has found all the id's for the test_set.\n",
    "\n",
    "Let's apply this now to the full PlayBack_FM set."
   ]
  },
  {
   "cell_type": "code",
   "execution_count": 17,
   "id": "74c95cb0",
   "metadata": {},
   "outputs": [
    {
     "data": {
      "text/html": [
       "<div>\n",
       "<style scoped>\n",
       "    .dataframe tbody tr th:only-of-type {\n",
       "        vertical-align: middle;\n",
       "    }\n",
       "\n",
       "    .dataframe tbody tr th {\n",
       "        vertical-align: top;\n",
       "    }\n",
       "\n",
       "    .dataframe thead th {\n",
       "        text-align: right;\n",
       "    }\n",
       "</style>\n",
       "<table border=\"1\" class=\"dataframe\">\n",
       "  <thead>\n",
       "    <tr style=\"text-align: right;\">\n",
       "      <th></th>\n",
       "      <th>track_name</th>\n",
       "      <th>artist_name</th>\n",
       "    </tr>\n",
       "  </thead>\n",
       "  <tbody>\n",
       "    <tr>\n",
       "      <th>0</th>\n",
       "      <td>Loser</td>\n",
       "      <td>3 Doors Down</td>\n",
       "    </tr>\n",
       "    <tr>\n",
       "      <th>1</th>\n",
       "      <td>Hanging by a Moment</td>\n",
       "      <td>Lifehouse</td>\n",
       "    </tr>\n",
       "    <tr>\n",
       "      <th>2</th>\n",
       "      <td>Kryptonite</td>\n",
       "      <td>3 Doors Down</td>\n",
       "    </tr>\n",
       "    <tr>\n",
       "      <th>3</th>\n",
       "      <td>No Leaf Clover</td>\n",
       "      <td>Metallica with Michael Kamen conducting The Sa...</td>\n",
       "    </tr>\n",
       "    <tr>\n",
       "      <th>4</th>\n",
       "      <td>Otherside</td>\n",
       "      <td>Red Hot Chili Peppers</td>\n",
       "    </tr>\n",
       "    <tr>\n",
       "      <th>...</th>\n",
       "      <td>...</td>\n",
       "      <td>...</td>\n",
       "    </tr>\n",
       "    <tr>\n",
       "      <th>8195</th>\n",
       "      <td>Pra Sempre</td>\n",
       "      <td>CPM 22</td>\n",
       "    </tr>\n",
       "    <tr>\n",
       "      <th>8196</th>\n",
       "      <td>Tô Mal</td>\n",
       "      <td>César Menotti &amp; Fabiano</td>\n",
       "    </tr>\n",
       "    <tr>\n",
       "      <th>8197</th>\n",
       "      <td>A Paz Desse Amor</td>\n",
       "      <td>Paula Fernandes</td>\n",
       "    </tr>\n",
       "    <tr>\n",
       "      <th>8198</th>\n",
       "      <td>Eu Ligo Pra Você</td>\n",
       "      <td>Zé Neto &amp; Cristiano</td>\n",
       "    </tr>\n",
       "    <tr>\n",
       "      <th>8199</th>\n",
       "      <td>Saudade de Você</td>\n",
       "      <td>Zé Felipe</td>\n",
       "    </tr>\n",
       "  </tbody>\n",
       "</table>\n",
       "<p>8200 rows × 2 columns</p>\n",
       "</div>"
      ],
      "text/plain": [
       "               track_name                                        artist_name\n",
       "0                   Loser                                       3 Doors Down\n",
       "1     Hanging by a Moment                                          Lifehouse\n",
       "2              Kryptonite                                       3 Doors Down\n",
       "3          No Leaf Clover  Metallica with Michael Kamen conducting The Sa...\n",
       "4               Otherside                              Red Hot Chili Peppers\n",
       "...                   ...                                                ...\n",
       "8195           Pra Sempre                                             CPM 22\n",
       "8196               Tô Mal                            César Menotti & Fabiano\n",
       "8197     A Paz Desse Amor                                    Paula Fernandes\n",
       "8198     Eu Ligo Pra Você                                Zé Neto & Cristiano\n",
       "8199      Saudade de Você                                          Zé Felipe\n",
       "\n",
       "[8200 rows x 2 columns]"
      ]
     },
     "execution_count": 17,
     "metadata": {},
     "output_type": "execute_result"
    }
   ],
   "source": [
    "playback_fm"
   ]
  },
  {
   "cell_type": "code",
   "execution_count": 18,
   "id": "be76e7e8",
   "metadata": {},
   "outputs": [
    {
     "ename": "KeyboardInterrupt",
     "evalue": "",
     "output_type": "error",
     "traceback": [
      "\u001b[1;31m---------------------------------------------------------------------------\u001b[0m",
      "\u001b[1;31mKeyboardInterrupt\u001b[0m                         Traceback (most recent call last)",
      "\u001b[1;32m~\\AppData\\Local\\Temp/ipykernel_18664/400436302.py\u001b[0m in \u001b[0;36m<module>\u001b[1;34m\u001b[0m\n\u001b[1;32m----> 1\u001b[1;33m \u001b[0mplayback_fm\u001b[0m\u001b[1;33m[\u001b[0m\u001b[1;34m'track_id'\u001b[0m\u001b[1;33m]\u001b[0m \u001b[1;33m=\u001b[0m \u001b[0mplayback_fm\u001b[0m\u001b[1;33m.\u001b[0m\u001b[0mapply\u001b[0m\u001b[1;33m(\u001b[0m\u001b[0msearch_song_id_2\u001b[0m\u001b[1;33m,\u001b[0m \u001b[0maxis\u001b[0m\u001b[1;33m=\u001b[0m\u001b[1;36m1\u001b[0m\u001b[1;33m)\u001b[0m\u001b[1;33m\u001b[0m\u001b[1;33m\u001b[0m\u001b[0m\n\u001b[0m",
      "\u001b[1;32m~\\anaconda3\\lib\\site-packages\\pandas\\core\\frame.py\u001b[0m in \u001b[0;36mapply\u001b[1;34m(self, func, axis, raw, result_type, args, **kwargs)\u001b[0m\n\u001b[0;32m   8738\u001b[0m             \u001b[0mkwargs\u001b[0m\u001b[1;33m=\u001b[0m\u001b[0mkwargs\u001b[0m\u001b[1;33m,\u001b[0m\u001b[1;33m\u001b[0m\u001b[1;33m\u001b[0m\u001b[0m\n\u001b[0;32m   8739\u001b[0m         )\n\u001b[1;32m-> 8740\u001b[1;33m         \u001b[1;32mreturn\u001b[0m \u001b[0mop\u001b[0m\u001b[1;33m.\u001b[0m\u001b[0mapply\u001b[0m\u001b[1;33m(\u001b[0m\u001b[1;33m)\u001b[0m\u001b[1;33m\u001b[0m\u001b[1;33m\u001b[0m\u001b[0m\n\u001b[0m\u001b[0;32m   8741\u001b[0m \u001b[1;33m\u001b[0m\u001b[0m\n\u001b[0;32m   8742\u001b[0m     def applymap(\n",
      "\u001b[1;32m~\\anaconda3\\lib\\site-packages\\pandas\\core\\apply.py\u001b[0m in \u001b[0;36mapply\u001b[1;34m(self)\u001b[0m\n\u001b[0;32m    686\u001b[0m             \u001b[1;32mreturn\u001b[0m \u001b[0mself\u001b[0m\u001b[1;33m.\u001b[0m\u001b[0mapply_raw\u001b[0m\u001b[1;33m(\u001b[0m\u001b[1;33m)\u001b[0m\u001b[1;33m\u001b[0m\u001b[1;33m\u001b[0m\u001b[0m\n\u001b[0;32m    687\u001b[0m \u001b[1;33m\u001b[0m\u001b[0m\n\u001b[1;32m--> 688\u001b[1;33m         \u001b[1;32mreturn\u001b[0m \u001b[0mself\u001b[0m\u001b[1;33m.\u001b[0m\u001b[0mapply_standard\u001b[0m\u001b[1;33m(\u001b[0m\u001b[1;33m)\u001b[0m\u001b[1;33m\u001b[0m\u001b[1;33m\u001b[0m\u001b[0m\n\u001b[0m\u001b[0;32m    689\u001b[0m \u001b[1;33m\u001b[0m\u001b[0m\n\u001b[0;32m    690\u001b[0m     \u001b[1;32mdef\u001b[0m \u001b[0magg\u001b[0m\u001b[1;33m(\u001b[0m\u001b[0mself\u001b[0m\u001b[1;33m)\u001b[0m\u001b[1;33m:\u001b[0m\u001b[1;33m\u001b[0m\u001b[1;33m\u001b[0m\u001b[0m\n",
      "\u001b[1;32m~\\anaconda3\\lib\\site-packages\\pandas\\core\\apply.py\u001b[0m in \u001b[0;36mapply_standard\u001b[1;34m(self)\u001b[0m\n\u001b[0;32m    810\u001b[0m \u001b[1;33m\u001b[0m\u001b[0m\n\u001b[0;32m    811\u001b[0m     \u001b[1;32mdef\u001b[0m \u001b[0mapply_standard\u001b[0m\u001b[1;33m(\u001b[0m\u001b[0mself\u001b[0m\u001b[1;33m)\u001b[0m\u001b[1;33m:\u001b[0m\u001b[1;33m\u001b[0m\u001b[1;33m\u001b[0m\u001b[0m\n\u001b[1;32m--> 812\u001b[1;33m         \u001b[0mresults\u001b[0m\u001b[1;33m,\u001b[0m \u001b[0mres_index\u001b[0m \u001b[1;33m=\u001b[0m \u001b[0mself\u001b[0m\u001b[1;33m.\u001b[0m\u001b[0mapply_series_generator\u001b[0m\u001b[1;33m(\u001b[0m\u001b[1;33m)\u001b[0m\u001b[1;33m\u001b[0m\u001b[1;33m\u001b[0m\u001b[0m\n\u001b[0m\u001b[0;32m    813\u001b[0m \u001b[1;33m\u001b[0m\u001b[0m\n\u001b[0;32m    814\u001b[0m         \u001b[1;31m# wrap results\u001b[0m\u001b[1;33m\u001b[0m\u001b[1;33m\u001b[0m\u001b[0m\n",
      "\u001b[1;32m~\\anaconda3\\lib\\site-packages\\pandas\\core\\apply.py\u001b[0m in \u001b[0;36mapply_series_generator\u001b[1;34m(self)\u001b[0m\n\u001b[0;32m    826\u001b[0m             \u001b[1;32mfor\u001b[0m \u001b[0mi\u001b[0m\u001b[1;33m,\u001b[0m \u001b[0mv\u001b[0m \u001b[1;32min\u001b[0m \u001b[0menumerate\u001b[0m\u001b[1;33m(\u001b[0m\u001b[0mseries_gen\u001b[0m\u001b[1;33m)\u001b[0m\u001b[1;33m:\u001b[0m\u001b[1;33m\u001b[0m\u001b[1;33m\u001b[0m\u001b[0m\n\u001b[0;32m    827\u001b[0m                 \u001b[1;31m# ignore SettingWithCopy here in case the user mutates\u001b[0m\u001b[1;33m\u001b[0m\u001b[1;33m\u001b[0m\u001b[0m\n\u001b[1;32m--> 828\u001b[1;33m                 \u001b[0mresults\u001b[0m\u001b[1;33m[\u001b[0m\u001b[0mi\u001b[0m\u001b[1;33m]\u001b[0m \u001b[1;33m=\u001b[0m \u001b[0mself\u001b[0m\u001b[1;33m.\u001b[0m\u001b[0mf\u001b[0m\u001b[1;33m(\u001b[0m\u001b[0mv\u001b[0m\u001b[1;33m)\u001b[0m\u001b[1;33m\u001b[0m\u001b[1;33m\u001b[0m\u001b[0m\n\u001b[0m\u001b[0;32m    829\u001b[0m                 \u001b[1;32mif\u001b[0m \u001b[0misinstance\u001b[0m\u001b[1;33m(\u001b[0m\u001b[0mresults\u001b[0m\u001b[1;33m[\u001b[0m\u001b[0mi\u001b[0m\u001b[1;33m]\u001b[0m\u001b[1;33m,\u001b[0m \u001b[0mABCSeries\u001b[0m\u001b[1;33m)\u001b[0m\u001b[1;33m:\u001b[0m\u001b[1;33m\u001b[0m\u001b[1;33m\u001b[0m\u001b[0m\n\u001b[0;32m    830\u001b[0m                     \u001b[1;31m# If we have a view on v, we need to make a copy because\u001b[0m\u001b[1;33m\u001b[0m\u001b[1;33m\u001b[0m\u001b[0m\n",
      "\u001b[1;32m~\\AppData\\Local\\Temp/ipykernel_18664/3046974334.py\u001b[0m in \u001b[0;36msearch_song_id_2\u001b[1;34m(row)\u001b[0m\n\u001b[0;32m      8\u001b[0m \u001b[1;33m\u001b[0m\u001b[0m\n\u001b[0;32m      9\u001b[0m     \u001b[1;31m# Get data from Spotify\u001b[0m\u001b[1;33m\u001b[0m\u001b[1;33m\u001b[0m\u001b[0m\n\u001b[1;32m---> 10\u001b[1;33m     \u001b[0mres\u001b[0m \u001b[1;33m=\u001b[0m \u001b[0msp\u001b[0m\u001b[1;33m.\u001b[0m\u001b[0msearch\u001b[0m\u001b[1;33m(\u001b[0m\u001b[0mq\u001b[0m\u001b[1;33m=\u001b[0m\u001b[1;34m'track:'\u001b[0m \u001b[1;33m+\u001b[0m \u001b[0mtrack_searched\u001b[0m \u001b[1;33m+\u001b[0m \u001b[1;34m' artist:'\u001b[0m \u001b[1;33m+\u001b[0m \u001b[0martist_searched\u001b[0m\u001b[1;33m,\u001b[0m \u001b[0mtype\u001b[0m\u001b[1;33m=\u001b[0m\u001b[1;34m'track'\u001b[0m\u001b[1;33m,\u001b[0m \u001b[0mlimit\u001b[0m\u001b[1;33m=\u001b[0m\u001b[1;36m50\u001b[0m\u001b[1;33m)\u001b[0m\u001b[1;33m\u001b[0m\u001b[1;33m\u001b[0m\u001b[0m\n\u001b[0m\u001b[0;32m     11\u001b[0m     \u001b[0mdata\u001b[0m \u001b[1;33m=\u001b[0m \u001b[0mres\u001b[0m\u001b[1;33m[\u001b[0m\u001b[1;34m'tracks'\u001b[0m\u001b[1;33m]\u001b[0m\u001b[1;33m[\u001b[0m\u001b[1;34m'items'\u001b[0m\u001b[1;33m]\u001b[0m\u001b[1;33m\u001b[0m\u001b[1;33m\u001b[0m\u001b[0m\n\u001b[0;32m     12\u001b[0m \u001b[1;33m\u001b[0m\u001b[0m\n",
      "\u001b[1;32m~\\anaconda3\\lib\\site-packages\\spotipy\\client.py\u001b[0m in \u001b[0;36msearch\u001b[1;34m(self, q, limit, offset, type, market)\u001b[0m\n\u001b[0;32m    551\u001b[0m                            \u001b[0mfrom_token\u001b[0m\u001b[1;33m.\u001b[0m\u001b[1;33m\u001b[0m\u001b[1;33m\u001b[0m\u001b[0m\n\u001b[0;32m    552\u001b[0m         \"\"\"\n\u001b[1;32m--> 553\u001b[1;33m         return self._get(\n\u001b[0m\u001b[0;32m    554\u001b[0m             \u001b[1;34m\"search\"\u001b[0m\u001b[1;33m,\u001b[0m \u001b[0mq\u001b[0m\u001b[1;33m=\u001b[0m\u001b[0mq\u001b[0m\u001b[1;33m,\u001b[0m \u001b[0mlimit\u001b[0m\u001b[1;33m=\u001b[0m\u001b[0mlimit\u001b[0m\u001b[1;33m,\u001b[0m \u001b[0moffset\u001b[0m\u001b[1;33m=\u001b[0m\u001b[0moffset\u001b[0m\u001b[1;33m,\u001b[0m \u001b[0mtype\u001b[0m\u001b[1;33m=\u001b[0m\u001b[0mtype\u001b[0m\u001b[1;33m,\u001b[0m \u001b[0mmarket\u001b[0m\u001b[1;33m=\u001b[0m\u001b[0mmarket\u001b[0m\u001b[1;33m\u001b[0m\u001b[1;33m\u001b[0m\u001b[0m\n\u001b[0;32m    555\u001b[0m         )\n",
      "\u001b[1;32m~\\anaconda3\\lib\\site-packages\\spotipy\\client.py\u001b[0m in \u001b[0;36m_get\u001b[1;34m(self, url, args, payload, **kwargs)\u001b[0m\n\u001b[0;32m    295\u001b[0m             \u001b[0mkwargs\u001b[0m\u001b[1;33m.\u001b[0m\u001b[0mupdate\u001b[0m\u001b[1;33m(\u001b[0m\u001b[0margs\u001b[0m\u001b[1;33m)\u001b[0m\u001b[1;33m\u001b[0m\u001b[1;33m\u001b[0m\u001b[0m\n\u001b[0;32m    296\u001b[0m \u001b[1;33m\u001b[0m\u001b[0m\n\u001b[1;32m--> 297\u001b[1;33m         \u001b[1;32mreturn\u001b[0m \u001b[0mself\u001b[0m\u001b[1;33m.\u001b[0m\u001b[0m_internal_call\u001b[0m\u001b[1;33m(\u001b[0m\u001b[1;34m\"GET\"\u001b[0m\u001b[1;33m,\u001b[0m \u001b[0murl\u001b[0m\u001b[1;33m,\u001b[0m \u001b[0mpayload\u001b[0m\u001b[1;33m,\u001b[0m \u001b[0mkwargs\u001b[0m\u001b[1;33m)\u001b[0m\u001b[1;33m\u001b[0m\u001b[1;33m\u001b[0m\u001b[0m\n\u001b[0m\u001b[0;32m    298\u001b[0m \u001b[1;33m\u001b[0m\u001b[0m\n\u001b[0;32m    299\u001b[0m     \u001b[1;32mdef\u001b[0m \u001b[0m_post\u001b[0m\u001b[1;33m(\u001b[0m\u001b[0mself\u001b[0m\u001b[1;33m,\u001b[0m \u001b[0murl\u001b[0m\u001b[1;33m,\u001b[0m \u001b[0margs\u001b[0m\u001b[1;33m=\u001b[0m\u001b[1;32mNone\u001b[0m\u001b[1;33m,\u001b[0m \u001b[0mpayload\u001b[0m\u001b[1;33m=\u001b[0m\u001b[1;32mNone\u001b[0m\u001b[1;33m,\u001b[0m \u001b[1;33m**\u001b[0m\u001b[0mkwargs\u001b[0m\u001b[1;33m)\u001b[0m\u001b[1;33m:\u001b[0m\u001b[1;33m\u001b[0m\u001b[1;33m\u001b[0m\u001b[0m\n",
      "\u001b[1;32m~\\anaconda3\\lib\\site-packages\\spotipy\\client.py\u001b[0m in \u001b[0;36m_internal_call\u001b[1;34m(self, method, url, payload, params)\u001b[0m\n\u001b[0;32m    238\u001b[0m \u001b[1;33m\u001b[0m\u001b[0m\n\u001b[0;32m    239\u001b[0m         \u001b[1;32mtry\u001b[0m\u001b[1;33m:\u001b[0m\u001b[1;33m\u001b[0m\u001b[1;33m\u001b[0m\u001b[0m\n\u001b[1;32m--> 240\u001b[1;33m             response = self._session.request(\n\u001b[0m\u001b[0;32m    241\u001b[0m                 \u001b[0mmethod\u001b[0m\u001b[1;33m,\u001b[0m \u001b[0murl\u001b[0m\u001b[1;33m,\u001b[0m \u001b[0mheaders\u001b[0m\u001b[1;33m=\u001b[0m\u001b[0mheaders\u001b[0m\u001b[1;33m,\u001b[0m \u001b[0mproxies\u001b[0m\u001b[1;33m=\u001b[0m\u001b[0mself\u001b[0m\u001b[1;33m.\u001b[0m\u001b[0mproxies\u001b[0m\u001b[1;33m,\u001b[0m\u001b[1;33m\u001b[0m\u001b[1;33m\u001b[0m\u001b[0m\n\u001b[0;32m    242\u001b[0m                 \u001b[0mtimeout\u001b[0m\u001b[1;33m=\u001b[0m\u001b[0mself\u001b[0m\u001b[1;33m.\u001b[0m\u001b[0mrequests_timeout\u001b[0m\u001b[1;33m,\u001b[0m \u001b[1;33m**\u001b[0m\u001b[0margs\u001b[0m\u001b[1;33m\u001b[0m\u001b[1;33m\u001b[0m\u001b[0m\n",
      "\u001b[1;32m~\\anaconda3\\lib\\site-packages\\requests\\sessions.py\u001b[0m in \u001b[0;36mrequest\u001b[1;34m(self, method, url, params, data, headers, cookies, files, auth, timeout, allow_redirects, proxies, hooks, stream, verify, cert, json)\u001b[0m\n\u001b[0;32m    540\u001b[0m         }\n\u001b[0;32m    541\u001b[0m         \u001b[0msend_kwargs\u001b[0m\u001b[1;33m.\u001b[0m\u001b[0mupdate\u001b[0m\u001b[1;33m(\u001b[0m\u001b[0msettings\u001b[0m\u001b[1;33m)\u001b[0m\u001b[1;33m\u001b[0m\u001b[1;33m\u001b[0m\u001b[0m\n\u001b[1;32m--> 542\u001b[1;33m         \u001b[0mresp\u001b[0m \u001b[1;33m=\u001b[0m \u001b[0mself\u001b[0m\u001b[1;33m.\u001b[0m\u001b[0msend\u001b[0m\u001b[1;33m(\u001b[0m\u001b[0mprep\u001b[0m\u001b[1;33m,\u001b[0m \u001b[1;33m**\u001b[0m\u001b[0msend_kwargs\u001b[0m\u001b[1;33m)\u001b[0m\u001b[1;33m\u001b[0m\u001b[1;33m\u001b[0m\u001b[0m\n\u001b[0m\u001b[0;32m    543\u001b[0m \u001b[1;33m\u001b[0m\u001b[0m\n\u001b[0;32m    544\u001b[0m         \u001b[1;32mreturn\u001b[0m \u001b[0mresp\u001b[0m\u001b[1;33m\u001b[0m\u001b[1;33m\u001b[0m\u001b[0m\n",
      "\u001b[1;32m~\\anaconda3\\lib\\site-packages\\requests\\sessions.py\u001b[0m in \u001b[0;36msend\u001b[1;34m(self, request, **kwargs)\u001b[0m\n\u001b[0;32m    653\u001b[0m \u001b[1;33m\u001b[0m\u001b[0m\n\u001b[0;32m    654\u001b[0m         \u001b[1;31m# Send the request\u001b[0m\u001b[1;33m\u001b[0m\u001b[1;33m\u001b[0m\u001b[0m\n\u001b[1;32m--> 655\u001b[1;33m         \u001b[0mr\u001b[0m \u001b[1;33m=\u001b[0m \u001b[0madapter\u001b[0m\u001b[1;33m.\u001b[0m\u001b[0msend\u001b[0m\u001b[1;33m(\u001b[0m\u001b[0mrequest\u001b[0m\u001b[1;33m,\u001b[0m \u001b[1;33m**\u001b[0m\u001b[0mkwargs\u001b[0m\u001b[1;33m)\u001b[0m\u001b[1;33m\u001b[0m\u001b[1;33m\u001b[0m\u001b[0m\n\u001b[0m\u001b[0;32m    656\u001b[0m \u001b[1;33m\u001b[0m\u001b[0m\n\u001b[0;32m    657\u001b[0m         \u001b[1;31m# Total elapsed time of the request (approximately)\u001b[0m\u001b[1;33m\u001b[0m\u001b[1;33m\u001b[0m\u001b[0m\n",
      "\u001b[1;32m~\\anaconda3\\lib\\site-packages\\requests\\adapters.py\u001b[0m in \u001b[0;36msend\u001b[1;34m(self, request, stream, timeout, verify, cert, proxies)\u001b[0m\n\u001b[0;32m    437\u001b[0m         \u001b[1;32mtry\u001b[0m\u001b[1;33m:\u001b[0m\u001b[1;33m\u001b[0m\u001b[1;33m\u001b[0m\u001b[0m\n\u001b[0;32m    438\u001b[0m             \u001b[1;32mif\u001b[0m \u001b[1;32mnot\u001b[0m \u001b[0mchunked\u001b[0m\u001b[1;33m:\u001b[0m\u001b[1;33m\u001b[0m\u001b[1;33m\u001b[0m\u001b[0m\n\u001b[1;32m--> 439\u001b[1;33m                 resp = conn.urlopen(\n\u001b[0m\u001b[0;32m    440\u001b[0m                     \u001b[0mmethod\u001b[0m\u001b[1;33m=\u001b[0m\u001b[0mrequest\u001b[0m\u001b[1;33m.\u001b[0m\u001b[0mmethod\u001b[0m\u001b[1;33m,\u001b[0m\u001b[1;33m\u001b[0m\u001b[1;33m\u001b[0m\u001b[0m\n\u001b[0;32m    441\u001b[0m                     \u001b[0murl\u001b[0m\u001b[1;33m=\u001b[0m\u001b[0murl\u001b[0m\u001b[1;33m,\u001b[0m\u001b[1;33m\u001b[0m\u001b[1;33m\u001b[0m\u001b[0m\n",
      "\u001b[1;32m~\\anaconda3\\lib\\site-packages\\urllib3\\connectionpool.py\u001b[0m in \u001b[0;36murlopen\u001b[1;34m(self, method, url, body, headers, retries, redirect, assert_same_host, timeout, pool_timeout, release_conn, chunked, body_pos, **response_kw)\u001b[0m\n\u001b[0;32m    697\u001b[0m \u001b[1;33m\u001b[0m\u001b[0m\n\u001b[0;32m    698\u001b[0m             \u001b[1;31m# Make the request on the httplib connection object.\u001b[0m\u001b[1;33m\u001b[0m\u001b[1;33m\u001b[0m\u001b[0m\n\u001b[1;32m--> 699\u001b[1;33m             httplib_response = self._make_request(\n\u001b[0m\u001b[0;32m    700\u001b[0m                 \u001b[0mconn\u001b[0m\u001b[1;33m,\u001b[0m\u001b[1;33m\u001b[0m\u001b[1;33m\u001b[0m\u001b[0m\n\u001b[0;32m    701\u001b[0m                 \u001b[0mmethod\u001b[0m\u001b[1;33m,\u001b[0m\u001b[1;33m\u001b[0m\u001b[1;33m\u001b[0m\u001b[0m\n",
      "\u001b[1;32m~\\anaconda3\\lib\\site-packages\\urllib3\\connectionpool.py\u001b[0m in \u001b[0;36m_make_request\u001b[1;34m(self, conn, method, url, timeout, chunked, **httplib_request_kw)\u001b[0m\n\u001b[0;32m    443\u001b[0m                     \u001b[1;31m# Python 3 (including for exceptions like SystemExit).\u001b[0m\u001b[1;33m\u001b[0m\u001b[1;33m\u001b[0m\u001b[0m\n\u001b[0;32m    444\u001b[0m                     \u001b[1;31m# Otherwise it looks like a bug in the code.\u001b[0m\u001b[1;33m\u001b[0m\u001b[1;33m\u001b[0m\u001b[0m\n\u001b[1;32m--> 445\u001b[1;33m                     \u001b[0msix\u001b[0m\u001b[1;33m.\u001b[0m\u001b[0mraise_from\u001b[0m\u001b[1;33m(\u001b[0m\u001b[0me\u001b[0m\u001b[1;33m,\u001b[0m \u001b[1;32mNone\u001b[0m\u001b[1;33m)\u001b[0m\u001b[1;33m\u001b[0m\u001b[1;33m\u001b[0m\u001b[0m\n\u001b[0m\u001b[0;32m    446\u001b[0m         \u001b[1;32mexcept\u001b[0m \u001b[1;33m(\u001b[0m\u001b[0mSocketTimeout\u001b[0m\u001b[1;33m,\u001b[0m \u001b[0mBaseSSLError\u001b[0m\u001b[1;33m,\u001b[0m \u001b[0mSocketError\u001b[0m\u001b[1;33m)\u001b[0m \u001b[1;32mas\u001b[0m \u001b[0me\u001b[0m\u001b[1;33m:\u001b[0m\u001b[1;33m\u001b[0m\u001b[1;33m\u001b[0m\u001b[0m\n\u001b[0;32m    447\u001b[0m             \u001b[0mself\u001b[0m\u001b[1;33m.\u001b[0m\u001b[0m_raise_timeout\u001b[0m\u001b[1;33m(\u001b[0m\u001b[0merr\u001b[0m\u001b[1;33m=\u001b[0m\u001b[0me\u001b[0m\u001b[1;33m,\u001b[0m \u001b[0murl\u001b[0m\u001b[1;33m=\u001b[0m\u001b[0murl\u001b[0m\u001b[1;33m,\u001b[0m \u001b[0mtimeout_value\u001b[0m\u001b[1;33m=\u001b[0m\u001b[0mread_timeout\u001b[0m\u001b[1;33m)\u001b[0m\u001b[1;33m\u001b[0m\u001b[1;33m\u001b[0m\u001b[0m\n",
      "\u001b[1;32m~\\anaconda3\\lib\\site-packages\\urllib3\\packages\\six.py\u001b[0m in \u001b[0;36mraise_from\u001b[1;34m(value, from_value)\u001b[0m\n",
      "\u001b[1;32m~\\anaconda3\\lib\\site-packages\\urllib3\\connectionpool.py\u001b[0m in \u001b[0;36m_make_request\u001b[1;34m(self, conn, method, url, timeout, chunked, **httplib_request_kw)\u001b[0m\n\u001b[0;32m    438\u001b[0m                 \u001b[1;31m# Python 3\u001b[0m\u001b[1;33m\u001b[0m\u001b[1;33m\u001b[0m\u001b[0m\n\u001b[0;32m    439\u001b[0m                 \u001b[1;32mtry\u001b[0m\u001b[1;33m:\u001b[0m\u001b[1;33m\u001b[0m\u001b[1;33m\u001b[0m\u001b[0m\n\u001b[1;32m--> 440\u001b[1;33m                     \u001b[0mhttplib_response\u001b[0m \u001b[1;33m=\u001b[0m \u001b[0mconn\u001b[0m\u001b[1;33m.\u001b[0m\u001b[0mgetresponse\u001b[0m\u001b[1;33m(\u001b[0m\u001b[1;33m)\u001b[0m\u001b[1;33m\u001b[0m\u001b[1;33m\u001b[0m\u001b[0m\n\u001b[0m\u001b[0;32m    441\u001b[0m                 \u001b[1;32mexcept\u001b[0m \u001b[0mBaseException\u001b[0m \u001b[1;32mas\u001b[0m \u001b[0me\u001b[0m\u001b[1;33m:\u001b[0m\u001b[1;33m\u001b[0m\u001b[1;33m\u001b[0m\u001b[0m\n\u001b[0;32m    442\u001b[0m                     \u001b[1;31m# Remove the TypeError from the exception chain in\u001b[0m\u001b[1;33m\u001b[0m\u001b[1;33m\u001b[0m\u001b[0m\n",
      "\u001b[1;32m~\\anaconda3\\lib\\http\\client.py\u001b[0m in \u001b[0;36mgetresponse\u001b[1;34m(self)\u001b[0m\n\u001b[0;32m   1369\u001b[0m         \u001b[1;32mtry\u001b[0m\u001b[1;33m:\u001b[0m\u001b[1;33m\u001b[0m\u001b[1;33m\u001b[0m\u001b[0m\n\u001b[0;32m   1370\u001b[0m             \u001b[1;32mtry\u001b[0m\u001b[1;33m:\u001b[0m\u001b[1;33m\u001b[0m\u001b[1;33m\u001b[0m\u001b[0m\n\u001b[1;32m-> 1371\u001b[1;33m                 \u001b[0mresponse\u001b[0m\u001b[1;33m.\u001b[0m\u001b[0mbegin\u001b[0m\u001b[1;33m(\u001b[0m\u001b[1;33m)\u001b[0m\u001b[1;33m\u001b[0m\u001b[1;33m\u001b[0m\u001b[0m\n\u001b[0m\u001b[0;32m   1372\u001b[0m             \u001b[1;32mexcept\u001b[0m \u001b[0mConnectionError\u001b[0m\u001b[1;33m:\u001b[0m\u001b[1;33m\u001b[0m\u001b[1;33m\u001b[0m\u001b[0m\n\u001b[0;32m   1373\u001b[0m                 \u001b[0mself\u001b[0m\u001b[1;33m.\u001b[0m\u001b[0mclose\u001b[0m\u001b[1;33m(\u001b[0m\u001b[1;33m)\u001b[0m\u001b[1;33m\u001b[0m\u001b[1;33m\u001b[0m\u001b[0m\n",
      "\u001b[1;32m~\\anaconda3\\lib\\http\\client.py\u001b[0m in \u001b[0;36mbegin\u001b[1;34m(self)\u001b[0m\n\u001b[0;32m    317\u001b[0m         \u001b[1;31m# read until we get a non-100 response\u001b[0m\u001b[1;33m\u001b[0m\u001b[1;33m\u001b[0m\u001b[0m\n\u001b[0;32m    318\u001b[0m         \u001b[1;32mwhile\u001b[0m \u001b[1;32mTrue\u001b[0m\u001b[1;33m:\u001b[0m\u001b[1;33m\u001b[0m\u001b[1;33m\u001b[0m\u001b[0m\n\u001b[1;32m--> 319\u001b[1;33m             \u001b[0mversion\u001b[0m\u001b[1;33m,\u001b[0m \u001b[0mstatus\u001b[0m\u001b[1;33m,\u001b[0m \u001b[0mreason\u001b[0m \u001b[1;33m=\u001b[0m \u001b[0mself\u001b[0m\u001b[1;33m.\u001b[0m\u001b[0m_read_status\u001b[0m\u001b[1;33m(\u001b[0m\u001b[1;33m)\u001b[0m\u001b[1;33m\u001b[0m\u001b[1;33m\u001b[0m\u001b[0m\n\u001b[0m\u001b[0;32m    320\u001b[0m             \u001b[1;32mif\u001b[0m \u001b[0mstatus\u001b[0m \u001b[1;33m!=\u001b[0m \u001b[0mCONTINUE\u001b[0m\u001b[1;33m:\u001b[0m\u001b[1;33m\u001b[0m\u001b[1;33m\u001b[0m\u001b[0m\n\u001b[0;32m    321\u001b[0m                 \u001b[1;32mbreak\u001b[0m\u001b[1;33m\u001b[0m\u001b[1;33m\u001b[0m\u001b[0m\n",
      "\u001b[1;32m~\\anaconda3\\lib\\http\\client.py\u001b[0m in \u001b[0;36m_read_status\u001b[1;34m(self)\u001b[0m\n\u001b[0;32m    278\u001b[0m \u001b[1;33m\u001b[0m\u001b[0m\n\u001b[0;32m    279\u001b[0m     \u001b[1;32mdef\u001b[0m \u001b[0m_read_status\u001b[0m\u001b[1;33m(\u001b[0m\u001b[0mself\u001b[0m\u001b[1;33m)\u001b[0m\u001b[1;33m:\u001b[0m\u001b[1;33m\u001b[0m\u001b[1;33m\u001b[0m\u001b[0m\n\u001b[1;32m--> 280\u001b[1;33m         \u001b[0mline\u001b[0m \u001b[1;33m=\u001b[0m \u001b[0mstr\u001b[0m\u001b[1;33m(\u001b[0m\u001b[0mself\u001b[0m\u001b[1;33m.\u001b[0m\u001b[0mfp\u001b[0m\u001b[1;33m.\u001b[0m\u001b[0mreadline\u001b[0m\u001b[1;33m(\u001b[0m\u001b[0m_MAXLINE\u001b[0m \u001b[1;33m+\u001b[0m \u001b[1;36m1\u001b[0m\u001b[1;33m)\u001b[0m\u001b[1;33m,\u001b[0m \u001b[1;34m\"iso-8859-1\"\u001b[0m\u001b[1;33m)\u001b[0m\u001b[1;33m\u001b[0m\u001b[1;33m\u001b[0m\u001b[0m\n\u001b[0m\u001b[0;32m    281\u001b[0m         \u001b[1;32mif\u001b[0m \u001b[0mlen\u001b[0m\u001b[1;33m(\u001b[0m\u001b[0mline\u001b[0m\u001b[1;33m)\u001b[0m \u001b[1;33m>\u001b[0m \u001b[0m_MAXLINE\u001b[0m\u001b[1;33m:\u001b[0m\u001b[1;33m\u001b[0m\u001b[1;33m\u001b[0m\u001b[0m\n\u001b[0;32m    282\u001b[0m             \u001b[1;32mraise\u001b[0m \u001b[0mLineTooLong\u001b[0m\u001b[1;33m(\u001b[0m\u001b[1;34m\"status line\"\u001b[0m\u001b[1;33m)\u001b[0m\u001b[1;33m\u001b[0m\u001b[1;33m\u001b[0m\u001b[0m\n",
      "\u001b[1;32m~\\anaconda3\\lib\\socket.py\u001b[0m in \u001b[0;36mreadinto\u001b[1;34m(self, b)\u001b[0m\n\u001b[0;32m    702\u001b[0m         \u001b[1;32mwhile\u001b[0m \u001b[1;32mTrue\u001b[0m\u001b[1;33m:\u001b[0m\u001b[1;33m\u001b[0m\u001b[1;33m\u001b[0m\u001b[0m\n\u001b[0;32m    703\u001b[0m             \u001b[1;32mtry\u001b[0m\u001b[1;33m:\u001b[0m\u001b[1;33m\u001b[0m\u001b[1;33m\u001b[0m\u001b[0m\n\u001b[1;32m--> 704\u001b[1;33m                 \u001b[1;32mreturn\u001b[0m \u001b[0mself\u001b[0m\u001b[1;33m.\u001b[0m\u001b[0m_sock\u001b[0m\u001b[1;33m.\u001b[0m\u001b[0mrecv_into\u001b[0m\u001b[1;33m(\u001b[0m\u001b[0mb\u001b[0m\u001b[1;33m)\u001b[0m\u001b[1;33m\u001b[0m\u001b[1;33m\u001b[0m\u001b[0m\n\u001b[0m\u001b[0;32m    705\u001b[0m             \u001b[1;32mexcept\u001b[0m \u001b[0mtimeout\u001b[0m\u001b[1;33m:\u001b[0m\u001b[1;33m\u001b[0m\u001b[1;33m\u001b[0m\u001b[0m\n\u001b[0;32m    706\u001b[0m                 \u001b[0mself\u001b[0m\u001b[1;33m.\u001b[0m\u001b[0m_timeout_occurred\u001b[0m \u001b[1;33m=\u001b[0m \u001b[1;32mTrue\u001b[0m\u001b[1;33m\u001b[0m\u001b[1;33m\u001b[0m\u001b[0m\n",
      "\u001b[1;32m~\\anaconda3\\lib\\ssl.py\u001b[0m in \u001b[0;36mrecv_into\u001b[1;34m(self, buffer, nbytes, flags)\u001b[0m\n\u001b[0;32m   1239\u001b[0m                   \u001b[1;34m\"non-zero flags not allowed in calls to recv_into() on %s\"\u001b[0m \u001b[1;33m%\u001b[0m\u001b[1;33m\u001b[0m\u001b[1;33m\u001b[0m\u001b[0m\n\u001b[0;32m   1240\u001b[0m                   self.__class__)\n\u001b[1;32m-> 1241\u001b[1;33m             \u001b[1;32mreturn\u001b[0m \u001b[0mself\u001b[0m\u001b[1;33m.\u001b[0m\u001b[0mread\u001b[0m\u001b[1;33m(\u001b[0m\u001b[0mnbytes\u001b[0m\u001b[1;33m,\u001b[0m \u001b[0mbuffer\u001b[0m\u001b[1;33m)\u001b[0m\u001b[1;33m\u001b[0m\u001b[1;33m\u001b[0m\u001b[0m\n\u001b[0m\u001b[0;32m   1242\u001b[0m         \u001b[1;32melse\u001b[0m\u001b[1;33m:\u001b[0m\u001b[1;33m\u001b[0m\u001b[1;33m\u001b[0m\u001b[0m\n\u001b[0;32m   1243\u001b[0m             \u001b[1;32mreturn\u001b[0m \u001b[0msuper\u001b[0m\u001b[1;33m(\u001b[0m\u001b[1;33m)\u001b[0m\u001b[1;33m.\u001b[0m\u001b[0mrecv_into\u001b[0m\u001b[1;33m(\u001b[0m\u001b[0mbuffer\u001b[0m\u001b[1;33m,\u001b[0m \u001b[0mnbytes\u001b[0m\u001b[1;33m,\u001b[0m \u001b[0mflags\u001b[0m\u001b[1;33m)\u001b[0m\u001b[1;33m\u001b[0m\u001b[1;33m\u001b[0m\u001b[0m\n",
      "\u001b[1;32m~\\anaconda3\\lib\\ssl.py\u001b[0m in \u001b[0;36mread\u001b[1;34m(self, len, buffer)\u001b[0m\n\u001b[0;32m   1097\u001b[0m         \u001b[1;32mtry\u001b[0m\u001b[1;33m:\u001b[0m\u001b[1;33m\u001b[0m\u001b[1;33m\u001b[0m\u001b[0m\n\u001b[0;32m   1098\u001b[0m             \u001b[1;32mif\u001b[0m \u001b[0mbuffer\u001b[0m \u001b[1;32mis\u001b[0m \u001b[1;32mnot\u001b[0m \u001b[1;32mNone\u001b[0m\u001b[1;33m:\u001b[0m\u001b[1;33m\u001b[0m\u001b[1;33m\u001b[0m\u001b[0m\n\u001b[1;32m-> 1099\u001b[1;33m                 \u001b[1;32mreturn\u001b[0m \u001b[0mself\u001b[0m\u001b[1;33m.\u001b[0m\u001b[0m_sslobj\u001b[0m\u001b[1;33m.\u001b[0m\u001b[0mread\u001b[0m\u001b[1;33m(\u001b[0m\u001b[0mlen\u001b[0m\u001b[1;33m,\u001b[0m \u001b[0mbuffer\u001b[0m\u001b[1;33m)\u001b[0m\u001b[1;33m\u001b[0m\u001b[1;33m\u001b[0m\u001b[0m\n\u001b[0m\u001b[0;32m   1100\u001b[0m             \u001b[1;32melse\u001b[0m\u001b[1;33m:\u001b[0m\u001b[1;33m\u001b[0m\u001b[1;33m\u001b[0m\u001b[0m\n\u001b[0;32m   1101\u001b[0m                 \u001b[1;32mreturn\u001b[0m \u001b[0mself\u001b[0m\u001b[1;33m.\u001b[0m\u001b[0m_sslobj\u001b[0m\u001b[1;33m.\u001b[0m\u001b[0mread\u001b[0m\u001b[1;33m(\u001b[0m\u001b[0mlen\u001b[0m\u001b[1;33m)\u001b[0m\u001b[1;33m\u001b[0m\u001b[1;33m\u001b[0m\u001b[0m\n",
      "\u001b[1;31mKeyboardInterrupt\u001b[0m: "
     ]
    }
   ],
   "source": [
    "playback_fm['track_id'] = playback_fm.apply(search_song_id_2, axis=1)"
   ]
  },
  {
   "cell_type": "code",
   "execution_count": 19,
   "id": "1da62956",
   "metadata": {},
   "outputs": [
    {
     "data": {
      "text/plain": [
       "[              track_name                                        artist_name\n",
       " 0                  Loser                                       3 Doors Down\n",
       " 1    Hanging by a Moment                                          Lifehouse\n",
       " 2             Kryptonite                                       3 Doors Down\n",
       " 3         No Leaf Clover  Metallica with Michael Kamen conducting The Sa...\n",
       " 4              Otherside                              Red Hot Chili Peppers\n",
       " ..                   ...                                                ...\n",
       " 907      Know Your Enemy                                          Green Day\n",
       " 908     Sound Of Madness                                          Shinedown\n",
       " 909                Break                                   Three Days Grace\n",
       " 910              Cyanide                                          Metallica\n",
       " 911     Kings and Queens                                 30 Seconds to Mars\n",
       " \n",
       " [912 rows x 2 columns],\n",
       "                                              track_name        artist_name\n",
       " 912   (If You're Wondering If I Want You To) I Want ...             Weezer\n",
       " 913                               Back Against the Wall  Cage the Elephant\n",
       " 914                                      Indestructible          Disturbed\n",
       " 915                                      I Will Not Bow  Breaking Benjamin\n",
       " 916                                    Hey, Soul Sister              Train\n",
       " ...                                                 ...                ...\n",
       " 1818                                      Guiding Light     Mumford & Sons\n",
       " 1819                                               &Run            Sir Sly\n",
       " 1820                                           No Roots       Alice Merton\n",
       " 1821                                        Bulletproof           Godsmack\n",
       " 1822                                Give Yourself A Try           The 1975\n",
       " \n",
       " [911 rows x 2 columns],\n",
       "                     track_name                              artist_name\n",
       " 1823           Dangerous Night                       30 Seconds To Mars\n",
       " 1824     Love It If We Made It                                The 1975 \n",
       " 1825  I Feel Like I'm Drowning                                 Two Feet\n",
       " 1826             Are You Ready                                Disturbed\n",
       " 1827              You Worry Me  Nathaniel Rateliff and The Night Sweats\n",
       " ...                        ...                                      ...\n",
       " 2729                 Baby Girl                                Sugarland\n",
       " 2730                   Alcohol                             Brad Paisley\n",
       " 2731           Skin (Sarabeth)                            Rascal Flatts\n",
       " 2732        Redneck Yacht Club                             Craig Morgan\n",
       " 2733        She Let Herself Go                            George Strait\n",
       " \n",
       " [911 rows x 2 columns],\n",
       "                          track_name       artist_name\n",
       " 2734                    Homewrecker   Gretchen Wilson\n",
       " 2735  Probably Wouldn't Be This Way       LeAnn Rimes\n",
       " 2736                Somebody's Hero      Jamie O'Neal\n",
       " 2737      Lot Of Leavin' Left To Do    Dierks Bentley\n",
       " 2738                 Songs About Me      Trace Adkins\n",
       " ...                             ...               ...\n",
       " 3640                     River Bank      Brad Paisley\n",
       " 3641                   Friday Night       Eric Paslay\n",
       " 3642                    Sweet Annie    Zac Brown Band\n",
       " 3643                        Compass   Lady Antebellum\n",
       " 3644           Small Town Throwdown  Brantley Gilbert\n",
       " \n",
       " [911 rows x 2 columns],\n",
       "                    track_name     artist_name\n",
       " 3645        Beat Of The Music  Brett Eldredge\n",
       " 3646                     Yeah     Joe Nichols\n",
       " 3647           God Made Girls         RaeLynn\n",
       " 3648   Lettin' The Night Roll    Justin Moore\n",
       " 3649              19 You & Me      Dan & Shay\n",
       " ...                       ...             ...\n",
       " 4551                  Caramel       City High\n",
       " 4552  Lights, Camera, Action!      Mr. Cheeks\n",
       " 4553          The Whole World         OutKast\n",
       " 4554          She's All I Got    Jimmy Cozier\n",
       " 4555                 Lifetime         Maxwell\n",
       " \n",
       " [911 rows x 2 columns],\n",
       "                      track_name       artist_name\n",
       " 4556          You Rock My World  Michael Jackson \n",
       " 4557                Butterflies   Michael Jackson\n",
       " 4558              Break Ya Neck      Busta Rhymes\n",
       " 4559   Bow Wow (That's My Name)      Lil' Bow Wow\n",
       " 4560               Take You Out   Luther Vandross\n",
       " ...                         ...               ...\n",
       " 5462           Fistful of Tears           Maxwell\n",
       " 5463  Ain't Leavin' without You            Jaheim\n",
       " 5464                   Lemonade        Gucci Mane\n",
       " 5465             Steady Mobbin'       Young Money\n",
       " 5466                 Roger That       Young Money\n",
       " \n",
       " [911 rows x 2 columns],\n",
       "                    track_name                      artist_name\n",
       " 5467      Finding My Way Back                           Jaheim\n",
       " 5468     All the Way Turnt Up                      Roscoe Dash\n",
       " 5469  Beamer, Benz or Bentley                     Lloyd Banks \n",
       " 5470         One In A Million                            Ne-Yo\n",
       " 5471             Make a Movie                           Twista\n",
       " ...                       ...                              ...\n",
       " 6373              Butterflies                      Queen Naija\n",
       " 6374       Don't Matter to Me  Drake featuring Michael Jackson\n",
       " 6375            Gonna Love Me                    Teyana Taylor\n",
       " 6376                Cash Shit              Megan Thee Stallion\n",
       " 6377                  Enemies                      Post Malone\n",
       " \n",
       " [911 rows x 2 columns],\n",
       "                    track_name                                  artist_name\n",
       " 6378                    Intro                                       DaBaby\n",
       " 6379        Sanguine Paradise                                 Lil Uzi Vert\n",
       " 6380                  Falling                                Trevor Daniel\n",
       " 6381                      Bop                                       DaBaby\n",
       " 6382                     Zeze  Kodak Black featuring Travis Scott & Offset\n",
       " ...                       ...                                          ...\n",
       " 7284                    Gueto                                   Marcelo D2\n",
       " 7285       Faço Tudo Por Você                                Banda Calypso\n",
       " 7286            Tempo Perdido                    Zezé Di Camargo & Luciano\n",
       " 7287  Quando Acaba Uma Paixão                                       Daniel\n",
       " 7288           Mexe Seu Corpo                        Cabal & Lailah Moreno\n",
       " \n",
       " [911 rows x 2 columns],\n",
       "               track_name              artist_name\n",
       " 7289  Por Um Gole A Mais          Bruno & Marrone\n",
       " 7290             Wake Up              Hilary Duff\n",
       " 7291       Quero Só Você               AfroReggae\n",
       " 7292           Breakaway           Kelly Clarkson\n",
       " 7293             Déjà Vu                    Pitty\n",
       " ...                  ...                      ...\n",
       " 8195          Pra Sempre                   CPM 22\n",
       " 8196              Tô Mal  César Menotti & Fabiano\n",
       " 8197    A Paz Desse Amor          Paula Fernandes\n",
       " 8198    Eu Ligo Pra Você      Zé Neto & Cristiano\n",
       " 8199     Saudade de Você                Zé Felipe\n",
       " \n",
       " [911 rows x 2 columns]]"
      ]
     },
     "execution_count": 19,
     "metadata": {},
     "output_type": "execute_result"
    }
   ],
   "source": [
    "import numpy as np\n",
    "pb_fm_subframes = np.array_split(playback_fm,9)\n",
    "pb_fm_subframes"
   ]
  },
  {
   "cell_type": "code",
   "execution_count": null,
   "id": "8994b186",
   "metadata": {},
   "outputs": [],
   "source": [
    "pb_fm_0 = pb_fm_subframes[0]\n",
    "pb_fm_0['track_id'] = pb_fm_0.apply(search_song_id_2, axis=1)"
   ]
  },
  {
   "cell_type": "code",
   "execution_count": null,
   "id": "6f796821",
   "metadata": {},
   "outputs": [],
   "source": [
    "pb_fm_0"
   ]
  },
  {
   "cell_type": "code",
   "execution_count": null,
   "id": "1994f37c",
   "metadata": {},
   "outputs": [],
   "source": [
    "pb_fm_0 = pb_fm_0.dropna().reset_index(drop=True)\n",
    "pb_fm_0"
   ]
  },
  {
   "cell_type": "code",
   "execution_count": null,
   "id": "052f72dc",
   "metadata": {},
   "outputs": [],
   "source": [
    "# Let's get the audio feature now for this first part of the PlayBack FM data\n",
    "\n",
    "audio_features_pb_fm_0 = []\n",
    "\n",
    "for i in range(len(pb_fm_0['track_id'])):\n",
    "    track_uri = 'spotify:track:' + pb_fm_0['track_id'][i]\n",
    "    audio_features_pb_fm_0.append(sp.audio_features(track_uri)[0])\n",
    "    sleep(randint(1,3))\n",
    "    \n",
    "pb_fm_0['audio_features'] = audio_features_pb_fm_0\n",
    "\n",
    "pb_fm_0 = flat_audio_feat(pb_fm_0)\n",
    "\n",
    "pb_fm_0"
   ]
  },
  {
   "cell_type": "code",
   "execution_count": null,
   "id": "1eebd1d2",
   "metadata": {},
   "outputs": [],
   "source": [
    "pb_fm_0.to_csv('pb_fm_0.csv')"
   ]
  },
  {
   "cell_type": "code",
   "execution_count": null,
   "id": "32ecbcd0",
   "metadata": {},
   "outputs": [],
   "source": [
    "pb_fm_1 = pb_fm_subframes[1]\n",
    "pb_fm_1['track_id'] = pb_fm_1.apply(search_song_id_2, axis=1)"
   ]
  },
  {
   "cell_type": "code",
   "execution_count": null,
   "id": "4b2f9be3",
   "metadata": {},
   "outputs": [],
   "source": [
    "pb_fm_1 = pb_fm_1.dropna().reset_index(drop=True)\n",
    "\n",
    "audio_features_pb_fm_1 = []\n",
    "\n",
    "for i in range(len(pb_fm_1['track_id'])):\n",
    "    track_uri = 'spotify:track:' + pb_fm_1['track_id'][i]\n",
    "    audio_features_pb_fm_1.append(sp.audio_features(track_uri)[0])\n",
    "    sleep(randint(1,3))\n",
    "    \n",
    "pb_fm_1['audio_features'] = audio_features_pb_fm_1\n",
    "\n",
    "pb_fm_1 = flat_audio_feat(pb_fm_1)"
   ]
  },
  {
   "cell_type": "code",
   "execution_count": null,
   "id": "4f69f3e1",
   "metadata": {},
   "outputs": [],
   "source": [
    "pb_fm = pd.concat([pb_fm_0, pb_fm_1], axis=0)"
   ]
  },
  {
   "cell_type": "code",
   "execution_count": null,
   "id": "cfbde56d",
   "metadata": {},
   "outputs": [],
   "source": [
    "pb_fm.to_csv('pb_fm.csv')"
   ]
  },
  {
   "cell_type": "code",
   "execution_count": null,
   "id": "1dd301dc",
   "metadata": {},
   "outputs": [],
   "source": [
    "pb_fm_2 = pb_fm_subframes[2]\n",
    "pb_fm_2['track_id'] = pb_fm_2.apply(search_song_id_2, axis=1)"
   ]
  },
  {
   "cell_type": "code",
   "execution_count": null,
   "id": "db8362c8",
   "metadata": {},
   "outputs": [],
   "source": [
    "pb_fm_2 = pb_fm_2.dropna().reset_index(drop=True)\n",
    "\n",
    "audio_features_pb_fm_2 = []\n",
    "\n",
    "for i in range(len(pb_fm_2['track_id'])):\n",
    "    track_uri = 'spotify:track:' + pb_fm_2['track_id'][i]\n",
    "    audio_features_pb_fm_2.append(sp.audio_features(track_uri)[0])\n",
    "    sleep(randint(1,3))\n",
    "    \n",
    "pb_fm_2['audio_features'] = audio_features_pb_fm_2\n",
    "\n",
    "pb_fm_2 = flat_audio_feat(pb_fm_2)"
   ]
  },
  {
   "cell_type": "code",
   "execution_count": null,
   "id": "29c97cdd",
   "metadata": {},
   "outputs": [],
   "source": [
    "pb_fm = pd.concat([pb_fm, pb_fm_2], axis=0)\n",
    "pb_fm.to_csv('pb_fm.csv')"
   ]
  },
  {
   "cell_type": "code",
   "execution_count": null,
   "id": "bd678efc",
   "metadata": {},
   "outputs": [],
   "source": [
    "pb_fm_3 = pb_fm_subframes[3]\n",
    "pb_fm_3['track_id'] = pb_fm_3.apply(search_song_id_2, axis=1)"
   ]
  },
  {
   "cell_type": "code",
   "execution_count": null,
   "id": "753c81b3",
   "metadata": {},
   "outputs": [],
   "source": [
    "pb_fm_3 = pb_fm_3.dropna().reset_index(drop=True)\n",
    "\n",
    "audio_features_pb_fm_3 = []\n",
    "\n",
    "for i in range(len(pb_fm_3['track_id'])):\n",
    "    track_uri = 'spotify:track:' + pb_fm_3['track_id'][i]\n",
    "    audio_features_pb_fm_3.append(sp.audio_features(track_uri)[0])\n",
    "    sleep(randint(1,3))\n",
    "    \n",
    "pb_fm_3['audio_features'] = audio_features_pb_fm_3\n",
    "\n",
    "pb_fm_3 = flat_audio_feat(pb_fm_3)\n",
    "\n",
    "pb_fm = pd.concat([pb_fm, pb_fm_3], axis=0)\n",
    "pb_fm.to_csv('pb_fm.csv', index=False)"
   ]
  },
  {
   "cell_type": "code",
   "execution_count": null,
   "id": "0292038c",
   "metadata": {},
   "outputs": [],
   "source": [
    "pb_fm_4 = pb_fm_subframes[4]\n",
    "pb_fm_4['track_id'] = pb_fm_4.apply(search_song_id_2, axis=1)"
   ]
  },
  {
   "cell_type": "code",
   "execution_count": null,
   "id": "6187d2b5",
   "metadata": {},
   "outputs": [],
   "source": [
    "pb_fm_4 = pb_fm_4.dropna().reset_index(drop=True)\n",
    "\n",
    "audio_features_pb_fm_4 = []\n",
    "\n",
    "for i in range(len(pb_fm_4['track_id'])):\n",
    "    track_uri = 'spotify:track:' + pb_fm_4['track_id'][i]\n",
    "    audio_features_pb_fm_4.append(sp.audio_features(track_uri)[0])\n",
    "    sleep(randint(1,3))\n",
    "    \n",
    "pb_fm_4['audio_features'] = audio_features_pb_fm_4\n",
    "\n",
    "pb_fm_4 = flat_audio_feat(pb_fm_4)\n",
    "\n",
    "pb_fm = pd.concat([pb_fm, pb_fm_4], axis=0)\n",
    "pb_fm.to_csv('pb_fm.csv', index=False)"
   ]
  },
  {
   "cell_type": "code",
   "execution_count": null,
   "id": "ee649694",
   "metadata": {},
   "outputs": [],
   "source": [
    "pb_fm_5 = pb_fm_subframes[5]\n",
    "pb_fm_5['track_id'] = pb_fm_5.apply(search_song_id_2, axis=1)"
   ]
  },
  {
   "cell_type": "code",
   "execution_count": null,
   "id": "01363055",
   "metadata": {},
   "outputs": [],
   "source": [
    "pb_fm_5 = pb_fm_5.dropna().reset_index(drop=True)\n",
    "\n",
    "audio_features_pb_fm_5 = []\n",
    "\n",
    "for i in range(len(pb_fm_5['track_id'])):\n",
    "    track_uri = 'spotify:track:' + pb_fm_5['track_id'][i]\n",
    "    audio_features_pb_fm_5.append(sp.audio_features(track_uri)[0])\n",
    "    sleep(randint(1,3))\n",
    "    \n",
    "pb_fm_5['audio_features'] = audio_features_pb_fm_5\n",
    "\n",
    "pb_fm_5 = flat_audio_feat(pb_fm_5)\n",
    "\n",
    "pb_fm = pd.concat([pb_fm, pb_fm_5], axis=0)\n",
    "pb_fm.to_csv('pb_fm.csv', index=False)"
   ]
  },
  {
   "cell_type": "code",
   "execution_count": null,
   "id": "78eb06e0",
   "metadata": {},
   "outputs": [],
   "source": [
    "pb_fm_6 = pb_fm_subframes[6]\n",
    "pb_fm_6['track_id'] = pb_fm_6.apply(search_song_id_2, axis=1)"
   ]
  },
  {
   "cell_type": "code",
   "execution_count": null,
   "id": "58831cdb",
   "metadata": {},
   "outputs": [],
   "source": [
    "pb_fm_6 = pb_fm_6.dropna().reset_index(drop=True)\n",
    "\n",
    "audio_features_pb_fm_6 = []\n",
    "\n",
    "for i in range(len(pb_fm_6['track_id'])):\n",
    "    track_uri = 'spotify:track:' + pb_fm_6['track_id'][i]\n",
    "    audio_features_pb_fm_6.append(sp.audio_features(track_uri)[0])\n",
    "    sleep(randint(1,3))\n",
    "    \n",
    "pb_fm_6['audio_features'] = audio_features_pb_fm_6\n",
    "\n",
    "pb_fm_6 = flat_audio_feat(pb_fm_6)\n",
    "\n",
    "pb_fm = pd.concat([pb_fm, pb_fm_6], axis=0)\n",
    "pb_fm.to_csv('pb_fm.csv', index=False)"
   ]
  },
  {
   "cell_type": "code",
   "execution_count": null,
   "id": "1f53a4d7",
   "metadata": {},
   "outputs": [],
   "source": [
    "pb_fm_7 = pb_fm_subframes[7]\n",
    "pb_fm_7['track_id'] = pb_fm_7.apply(search_song_id_2, axis=1)"
   ]
  },
  {
   "cell_type": "code",
   "execution_count": null,
   "id": "506da856",
   "metadata": {},
   "outputs": [],
   "source": [
    "pb_fm_7 = pb_fm_7.dropna().reset_index(drop=True)\n",
    "\n",
    "audio_features_pb_fm_7 = []\n",
    "\n",
    "for i in range(len(pb_fm_7['track_id'])):\n",
    "    track_uri = 'spotify:track:' + pb_fm_7['track_id'][i]\n",
    "    audio_features_pb_fm_7.append(sp.audio_features(track_uri)[0])\n",
    "    sleep(randint(1,3))\n",
    "    \n",
    "pb_fm_7['audio_features'] = audio_features_pb_fm_7\n",
    "\n",
    "pb_fm_7 = flat_audio_feat(pb_fm_7)\n",
    "\n",
    "pb_fm = pd.concat([pb_fm, pb_fm_7], axis=0)\n",
    "pb_fm.to_csv('pb_fm.csv', index=False)"
   ]
  },
  {
   "cell_type": "code",
   "execution_count": 21,
   "id": "e5c8ac0a",
   "metadata": {},
   "outputs": [],
   "source": [
    "pb_fm_8 = pb_fm_subframes[8]\n",
    "pb_fm_8['track_id'] = pb_fm_8.apply(search_song_id_2, axis=1)"
   ]
  },
  {
   "cell_type": "code",
   "execution_count": 22,
   "id": "11e368c1",
   "metadata": {},
   "outputs": [
    {
     "data": {
      "text/html": [
       "<div>\n",
       "<style scoped>\n",
       "    .dataframe tbody tr th:only-of-type {\n",
       "        vertical-align: middle;\n",
       "    }\n",
       "\n",
       "    .dataframe tbody tr th {\n",
       "        vertical-align: top;\n",
       "    }\n",
       "\n",
       "    .dataframe thead th {\n",
       "        text-align: right;\n",
       "    }\n",
       "</style>\n",
       "<table border=\"1\" class=\"dataframe\">\n",
       "  <thead>\n",
       "    <tr style=\"text-align: right;\">\n",
       "      <th></th>\n",
       "      <th>track_name</th>\n",
       "      <th>artist_name</th>\n",
       "      <th>track_id</th>\n",
       "    </tr>\n",
       "  </thead>\n",
       "  <tbody>\n",
       "    <tr>\n",
       "      <th>7289</th>\n",
       "      <td>Por Um Gole A Mais</td>\n",
       "      <td>Bruno &amp; Marrone</td>\n",
       "      <td>6gtz6ZrxOGySZgeNDECih1</td>\n",
       "    </tr>\n",
       "    <tr>\n",
       "      <th>7290</th>\n",
       "      <td>Wake Up</td>\n",
       "      <td>Hilary Duff</td>\n",
       "      <td>7qhUtJDCu1tYrdkIMPVYRc</td>\n",
       "    </tr>\n",
       "    <tr>\n",
       "      <th>7291</th>\n",
       "      <td>Quero Só Você</td>\n",
       "      <td>AfroReggae</td>\n",
       "      <td>None</td>\n",
       "    </tr>\n",
       "    <tr>\n",
       "      <th>7292</th>\n",
       "      <td>Breakaway</td>\n",
       "      <td>Kelly Clarkson</td>\n",
       "      <td>61Qhe2mHSLhUE04QeK4lkD</td>\n",
       "    </tr>\n",
       "    <tr>\n",
       "      <th>7293</th>\n",
       "      <td>Déjà Vu</td>\n",
       "      <td>Pitty</td>\n",
       "      <td>5Gbeo74EGXQmObATXwPjzd</td>\n",
       "    </tr>\n",
       "    <tr>\n",
       "      <th>...</th>\n",
       "      <td>...</td>\n",
       "      <td>...</td>\n",
       "      <td>...</td>\n",
       "    </tr>\n",
       "    <tr>\n",
       "      <th>8195</th>\n",
       "      <td>Pra Sempre</td>\n",
       "      <td>CPM 22</td>\n",
       "      <td>None</td>\n",
       "    </tr>\n",
       "    <tr>\n",
       "      <th>8196</th>\n",
       "      <td>Tô Mal</td>\n",
       "      <td>César Menotti &amp; Fabiano</td>\n",
       "      <td>2ainqIGj3V7Vfv5lDYPbzH</td>\n",
       "    </tr>\n",
       "    <tr>\n",
       "      <th>8197</th>\n",
       "      <td>A Paz Desse Amor</td>\n",
       "      <td>Paula Fernandes</td>\n",
       "      <td>5GqGypWJIx3nLLFrvOrqcj</td>\n",
       "    </tr>\n",
       "    <tr>\n",
       "      <th>8198</th>\n",
       "      <td>Eu Ligo Pra Você</td>\n",
       "      <td>Zé Neto &amp; Cristiano</td>\n",
       "      <td>4qQBnUPsHRdz2uPFLdflde</td>\n",
       "    </tr>\n",
       "    <tr>\n",
       "      <th>8199</th>\n",
       "      <td>Saudade de Você</td>\n",
       "      <td>Zé Felipe</td>\n",
       "      <td>1nfEBUBIVvXzVAZ1FiYpTi</td>\n",
       "    </tr>\n",
       "  </tbody>\n",
       "</table>\n",
       "<p>911 rows × 3 columns</p>\n",
       "</div>"
      ],
      "text/plain": [
       "              track_name              artist_name                track_id\n",
       "7289  Por Um Gole A Mais          Bruno & Marrone  6gtz6ZrxOGySZgeNDECih1\n",
       "7290             Wake Up              Hilary Duff  7qhUtJDCu1tYrdkIMPVYRc\n",
       "7291       Quero Só Você               AfroReggae                    None\n",
       "7292           Breakaway           Kelly Clarkson  61Qhe2mHSLhUE04QeK4lkD\n",
       "7293             Déjà Vu                    Pitty  5Gbeo74EGXQmObATXwPjzd\n",
       "...                  ...                      ...                     ...\n",
       "8195          Pra Sempre                   CPM 22                    None\n",
       "8196              Tô Mal  César Menotti & Fabiano  2ainqIGj3V7Vfv5lDYPbzH\n",
       "8197    A Paz Desse Amor          Paula Fernandes  5GqGypWJIx3nLLFrvOrqcj\n",
       "8198    Eu Ligo Pra Você      Zé Neto & Cristiano  4qQBnUPsHRdz2uPFLdflde\n",
       "8199     Saudade de Você                Zé Felipe  1nfEBUBIVvXzVAZ1FiYpTi\n",
       "\n",
       "[911 rows x 3 columns]"
      ]
     },
     "execution_count": 22,
     "metadata": {},
     "output_type": "execute_result"
    }
   ],
   "source": [
    "pb_fm_8"
   ]
  },
  {
   "cell_type": "code",
   "execution_count": 23,
   "id": "2ffa23be",
   "metadata": {},
   "outputs": [],
   "source": [
    "pb_fm = pd.read_csv('pb_fm.csv')"
   ]
  },
  {
   "cell_type": "code",
   "execution_count": 24,
   "id": "31a4b544",
   "metadata": {},
   "outputs": [
    {
     "data": {
      "text/html": [
       "<div>\n",
       "<style scoped>\n",
       "    .dataframe tbody tr th:only-of-type {\n",
       "        vertical-align: middle;\n",
       "    }\n",
       "\n",
       "    .dataframe tbody tr th {\n",
       "        vertical-align: top;\n",
       "    }\n",
       "\n",
       "    .dataframe thead th {\n",
       "        text-align: right;\n",
       "    }\n",
       "</style>\n",
       "<table border=\"1\" class=\"dataframe\">\n",
       "  <thead>\n",
       "    <tr style=\"text-align: right;\">\n",
       "      <th></th>\n",
       "      <th>track_name</th>\n",
       "      <th>artist_name</th>\n",
       "      <th>track_id</th>\n",
       "      <th>danceability</th>\n",
       "      <th>energy</th>\n",
       "      <th>loudness</th>\n",
       "      <th>speechiness</th>\n",
       "      <th>acousticness</th>\n",
       "      <th>instrumentalness</th>\n",
       "      <th>liveness</th>\n",
       "      <th>valence</th>\n",
       "      <th>tempo</th>\n",
       "      <th>time_signature</th>\n",
       "    </tr>\n",
       "  </thead>\n",
       "  <tbody>\n",
       "    <tr>\n",
       "      <th>0</th>\n",
       "      <td>Loser</td>\n",
       "      <td>3 Doors Down</td>\n",
       "      <td>1aC1IBAETh2XYGOE8kCC6t</td>\n",
       "      <td>0.493</td>\n",
       "      <td>0.880</td>\n",
       "      <td>-6.424</td>\n",
       "      <td>0.0693</td>\n",
       "      <td>0.010800</td>\n",
       "      <td>0.000027</td>\n",
       "      <td>0.2260</td>\n",
       "      <td>0.389</td>\n",
       "      <td>147.913</td>\n",
       "      <td>4</td>\n",
       "    </tr>\n",
       "    <tr>\n",
       "      <th>1</th>\n",
       "      <td>Hanging by a Moment</td>\n",
       "      <td>Lifehouse</td>\n",
       "      <td>0wqOReZDnrefefEsrIGeR4</td>\n",
       "      <td>0.541</td>\n",
       "      <td>0.864</td>\n",
       "      <td>-4.915</td>\n",
       "      <td>0.0357</td>\n",
       "      <td>0.001180</td>\n",
       "      <td>0.000000</td>\n",
       "      <td>0.0896</td>\n",
       "      <td>0.435</td>\n",
       "      <td>124.557</td>\n",
       "      <td>4</td>\n",
       "    </tr>\n",
       "    <tr>\n",
       "      <th>2</th>\n",
       "      <td>Kryptonite</td>\n",
       "      <td>3 Doors Down</td>\n",
       "      <td>6ZOBP3NvffbU4SZcrnt1k6</td>\n",
       "      <td>0.545</td>\n",
       "      <td>0.865</td>\n",
       "      <td>-5.708</td>\n",
       "      <td>0.0286</td>\n",
       "      <td>0.006640</td>\n",
       "      <td>0.000011</td>\n",
       "      <td>0.1680</td>\n",
       "      <td>0.543</td>\n",
       "      <td>99.009</td>\n",
       "      <td>4</td>\n",
       "    </tr>\n",
       "    <tr>\n",
       "      <th>3</th>\n",
       "      <td>Otherside</td>\n",
       "      <td>Red Hot Chili Peppers</td>\n",
       "      <td>64BbK9SFKH2jk86U3dGj2P</td>\n",
       "      <td>0.458</td>\n",
       "      <td>0.795</td>\n",
       "      <td>-3.265</td>\n",
       "      <td>0.0574</td>\n",
       "      <td>0.003160</td>\n",
       "      <td>0.000202</td>\n",
       "      <td>0.0756</td>\n",
       "      <td>0.513</td>\n",
       "      <td>123.229</td>\n",
       "      <td>4</td>\n",
       "    </tr>\n",
       "    <tr>\n",
       "      <th>4</th>\n",
       "      <td>Hemorrhage (In My Hands)</td>\n",
       "      <td>Fuel</td>\n",
       "      <td>1sjrDQXqAa9V07FjKIlAQ4</td>\n",
       "      <td>0.301</td>\n",
       "      <td>0.823</td>\n",
       "      <td>-4.072</td>\n",
       "      <td>0.0433</td>\n",
       "      <td>0.000144</td>\n",
       "      <td>0.000309</td>\n",
       "      <td>0.0833</td>\n",
       "      <td>0.372</td>\n",
       "      <td>152.017</td>\n",
       "      <td>4</td>\n",
       "    </tr>\n",
       "    <tr>\n",
       "      <th>...</th>\n",
       "      <td>...</td>\n",
       "      <td>...</td>\n",
       "      <td>...</td>\n",
       "      <td>...</td>\n",
       "      <td>...</td>\n",
       "      <td>...</td>\n",
       "      <td>...</td>\n",
       "      <td>...</td>\n",
       "      <td>...</td>\n",
       "      <td>...</td>\n",
       "      <td>...</td>\n",
       "      <td>...</td>\n",
       "      <td>...</td>\n",
       "    </tr>\n",
       "    <tr>\n",
       "      <th>4662</th>\n",
       "      <td>So Sick</td>\n",
       "      <td>Ne-Yo</td>\n",
       "      <td>6brl7bwOHmGFkNw3MBqssT</td>\n",
       "      <td>0.452</td>\n",
       "      <td>0.574</td>\n",
       "      <td>-8.336</td>\n",
       "      <td>0.3100</td>\n",
       "      <td>0.246000</td>\n",
       "      <td>0.000000</td>\n",
       "      <td>0.1890</td>\n",
       "      <td>0.580</td>\n",
       "      <td>92.791</td>\n",
       "      <td>4</td>\n",
       "    </tr>\n",
       "    <tr>\n",
       "      <th>4663</th>\n",
       "      <td>Sorry</td>\n",
       "      <td>Madonna</td>\n",
       "      <td>55whbebR4olz2HHcRQa2kx</td>\n",
       "      <td>0.589</td>\n",
       "      <td>0.877</td>\n",
       "      <td>-6.229</td>\n",
       "      <td>0.0460</td>\n",
       "      <td>0.001210</td>\n",
       "      <td>0.013000</td>\n",
       "      <td>0.1690</td>\n",
       "      <td>0.443</td>\n",
       "      <td>132.971</td>\n",
       "      <td>4</td>\n",
       "    </tr>\n",
       "    <tr>\n",
       "      <th>4664</th>\n",
       "      <td>Eu Sei</td>\n",
       "      <td>Papas da Língua</td>\n",
       "      <td>5YQPOIAt3U7DMAswTVvzax</td>\n",
       "      <td>0.440</td>\n",
       "      <td>0.613</td>\n",
       "      <td>-8.234</td>\n",
       "      <td>0.0301</td>\n",
       "      <td>0.590000</td>\n",
       "      <td>0.000000</td>\n",
       "      <td>0.9350</td>\n",
       "      <td>0.397</td>\n",
       "      <td>108.087</td>\n",
       "      <td>4</td>\n",
       "    </tr>\n",
       "    <tr>\n",
       "      <th>4665</th>\n",
       "      <td>O Inferno São Os Outros</td>\n",
       "      <td>Titãs</td>\n",
       "      <td>35jkaBY09RzxjCotqypr4v</td>\n",
       "      <td>0.416</td>\n",
       "      <td>0.975</td>\n",
       "      <td>-5.220</td>\n",
       "      <td>0.1210</td>\n",
       "      <td>0.004140</td>\n",
       "      <td>0.000002</td>\n",
       "      <td>0.9390</td>\n",
       "      <td>0.666</td>\n",
       "      <td>159.939</td>\n",
       "      <td>4</td>\n",
       "    </tr>\n",
       "    <tr>\n",
       "      <th>4666</th>\n",
       "      <td>Quando Acaba Uma Paixão</td>\n",
       "      <td>Daniel</td>\n",
       "      <td>0Ebx8vaipD3WlK7VOfa7nr</td>\n",
       "      <td>0.717</td>\n",
       "      <td>0.487</td>\n",
       "      <td>-6.925</td>\n",
       "      <td>0.0282</td>\n",
       "      <td>0.655000</td>\n",
       "      <td>0.000000</td>\n",
       "      <td>0.1400</td>\n",
       "      <td>0.572</td>\n",
       "      <td>104.024</td>\n",
       "      <td>4</td>\n",
       "    </tr>\n",
       "  </tbody>\n",
       "</table>\n",
       "<p>4667 rows × 13 columns</p>\n",
       "</div>"
      ],
      "text/plain": [
       "                    track_name            artist_name                track_id  \\\n",
       "0                        Loser           3 Doors Down  1aC1IBAETh2XYGOE8kCC6t   \n",
       "1          Hanging by a Moment              Lifehouse  0wqOReZDnrefefEsrIGeR4   \n",
       "2                   Kryptonite           3 Doors Down  6ZOBP3NvffbU4SZcrnt1k6   \n",
       "3                    Otherside  Red Hot Chili Peppers  64BbK9SFKH2jk86U3dGj2P   \n",
       "4     Hemorrhage (In My Hands)                   Fuel  1sjrDQXqAa9V07FjKIlAQ4   \n",
       "...                        ...                    ...                     ...   \n",
       "4662                   So Sick                  Ne-Yo  6brl7bwOHmGFkNw3MBqssT   \n",
       "4663                     Sorry                Madonna  55whbebR4olz2HHcRQa2kx   \n",
       "4664                    Eu Sei        Papas da Língua  5YQPOIAt3U7DMAswTVvzax   \n",
       "4665   O Inferno São Os Outros                  Titãs  35jkaBY09RzxjCotqypr4v   \n",
       "4666   Quando Acaba Uma Paixão                 Daniel  0Ebx8vaipD3WlK7VOfa7nr   \n",
       "\n",
       "      danceability  energy  loudness  speechiness  acousticness  \\\n",
       "0            0.493   0.880    -6.424       0.0693      0.010800   \n",
       "1            0.541   0.864    -4.915       0.0357      0.001180   \n",
       "2            0.545   0.865    -5.708       0.0286      0.006640   \n",
       "3            0.458   0.795    -3.265       0.0574      0.003160   \n",
       "4            0.301   0.823    -4.072       0.0433      0.000144   \n",
       "...            ...     ...       ...          ...           ...   \n",
       "4662         0.452   0.574    -8.336       0.3100      0.246000   \n",
       "4663         0.589   0.877    -6.229       0.0460      0.001210   \n",
       "4664         0.440   0.613    -8.234       0.0301      0.590000   \n",
       "4665         0.416   0.975    -5.220       0.1210      0.004140   \n",
       "4666         0.717   0.487    -6.925       0.0282      0.655000   \n",
       "\n",
       "      instrumentalness  liveness  valence    tempo  time_signature  \n",
       "0             0.000027    0.2260    0.389  147.913               4  \n",
       "1             0.000000    0.0896    0.435  124.557               4  \n",
       "2             0.000011    0.1680    0.543   99.009               4  \n",
       "3             0.000202    0.0756    0.513  123.229               4  \n",
       "4             0.000309    0.0833    0.372  152.017               4  \n",
       "...                ...       ...      ...      ...             ...  \n",
       "4662          0.000000    0.1890    0.580   92.791               4  \n",
       "4663          0.013000    0.1690    0.443  132.971               4  \n",
       "4664          0.000000    0.9350    0.397  108.087               4  \n",
       "4665          0.000002    0.9390    0.666  159.939               4  \n",
       "4666          0.000000    0.1400    0.572  104.024               4  \n",
       "\n",
       "[4667 rows x 13 columns]"
      ]
     },
     "execution_count": 24,
     "metadata": {},
     "output_type": "execute_result"
    }
   ],
   "source": [
    "pb_fm"
   ]
  },
  {
   "cell_type": "code",
   "execution_count": 29,
   "id": "6358befd",
   "metadata": {},
   "outputs": [],
   "source": [
    "pb_fm_8 = pb_fm_8.dropna().reset_index(drop=True)\n",
    "\n",
    "audio_features_pb_fm_8 = []\n",
    "\n",
    "for i in range(len(pb_fm_8['track_id'])):\n",
    "    track_uri = 'spotify:track:' + pb_fm_8['track_id'][i]\n",
    "    audio_features_pb_fm_8.append(sp.audio_features(track_uri)[0])\n",
    "    sleep(randint(1,3))\n",
    "    \n",
    "pb_fm_8['audio_features'] = audio_features_pb_fm_8\n",
    "\n",
    "pb_fm_8 = flat_audio_feat(pb_fm_8)\n",
    "\n",
    "pb_fm = pd.concat([pb_fm, pb_fm_8], axis=0)\n",
    "pb_fm.to_csv('pb_fm.csv', index=False)"
   ]
  },
  {
   "cell_type": "code",
   "execution_count": 31,
   "id": "64119c79",
   "metadata": {},
   "outputs": [
    {
     "data": {
      "text/plain": [
       "(5112, 13)"
      ]
     },
     "execution_count": 31,
     "metadata": {},
     "output_type": "execute_result"
    }
   ],
   "source": [
    "pb_fm.shape"
   ]
  }
 ],
 "metadata": {
  "kernelspec": {
   "display_name": "Python 3 (ipykernel)",
   "language": "python",
   "name": "python3"
  },
  "language_info": {
   "codemirror_mode": {
    "name": "ipython",
    "version": 3
   },
   "file_extension": ".py",
   "mimetype": "text/x-python",
   "name": "python",
   "nbconvert_exporter": "python",
   "pygments_lexer": "ipython3",
   "version": "3.9.7"
  }
 },
 "nbformat": 4,
 "nbformat_minor": 5
}
